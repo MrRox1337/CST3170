{
 "cells": [
  {
   "cell_type": "markdown",
   "metadata": {},
   "source": [
    "# Genetic Algorithms"
   ]
  },
  {
   "cell_type": "code",
   "execution_count": 45,
   "metadata": {},
   "outputs": [],
   "source": [
    "parent1, parent2 = 5555555555, 4444444444"
   ]
  },
  {
   "cell_type": "markdown",
   "metadata": {},
   "source": [
    "## Single-point Crossover"
   ]
  },
  {
   "cell_type": "code",
   "execution_count": 53,
   "metadata": {},
   "outputs": [
    {
     "name": "stdout",
     "output_type": "stream",
     "text": [
      "Slice after 5 digits\n",
      "5555544444 4444455555\n"
     ]
    }
   ],
   "source": [
    "import random as rand\n",
    "\n",
    "n = rand.randint(1,10)\n",
    "print(\"Slice after\", 10-n, \"digits\")\n",
    "\n",
    "def crossover_solution(parent1, parent2, n):\n",
    "    crossover_point = 10 ** n\n",
    "\n",
    "    pre1 = parent1 // crossover_point * crossover_point\n",
    "    post1 = parent1 % crossover_point\n",
    "    \n",
    "    pre2 = parent2 // crossover_point * crossover_point\n",
    "    post2 = parent2 % crossover_point\n",
    "\n",
    "    solutionA = pre1 + post2\n",
    "    solutionB = pre2 + post1\n",
    "\n",
    "    return solutionA, solutionB\n",
    "\n",
    "solution1, solution2 = crossover_solution(parent1, parent2, n)\n",
    "print(solution1, solution2)"
   ]
  },
  {
   "cell_type": "markdown",
   "metadata": {},
   "source": [
    "## Single-point Mutation"
   ]
  },
  {
   "cell_type": "markdown",
   "metadata": {},
   "source": [
    "Creating function to mutate a number of any length"
   ]
  },
  {
   "cell_type": "code",
   "execution_count": 47,
   "metadata": {},
   "outputs": [],
   "source": [
    "def mutate_solution(number):\n",
    "    number_str = str(number)\n",
    "    index = rand.randint(0, len(number_str) - 1)\n",
    "    print(\"Mutation of\", number,\"at index:\",index)\n",
    "    new_digit = str(rand.randint(0, 9))\n",
    "    \n",
    "    mutated_number = number_str[:index] + new_digit + number_str[index + 1:]\n",
    "    return int(mutated_number)"
   ]
  },
  {
   "cell_type": "code",
   "execution_count": 48,
   "metadata": {},
   "outputs": [
    {
     "name": "stdout",
     "output_type": "stream",
     "text": [
      "Mutation of 5544444444 at index: 3\n",
      "5541444444\n"
     ]
    }
   ],
   "source": [
    "solution3 = mutate_solution(solution1)\n",
    "print(solution3)"
   ]
  },
  {
   "cell_type": "code",
   "execution_count": 49,
   "metadata": {},
   "outputs": [
    {
     "name": "stdout",
     "output_type": "stream",
     "text": [
      "Mutation of 4455555555 at index: 8\n"
     ]
    }
   ],
   "source": [
    "solution4 = mutate_solution(solution2)"
   ]
  },
  {
   "cell_type": "markdown",
   "metadata": {},
   "source": [
    "## Simple Evaluation"
   ]
  },
  {
   "cell_type": "code",
   "execution_count": 52,
   "metadata": {},
   "outputs": [
    {
     "name": "stdout",
     "output_type": "stream",
     "text": [
      "39 51\n"
     ]
    }
   ],
   "source": [
    "def evaluate(number):\n",
    "    return sum(int(digit) for digit in str(number))\n",
    "\n",
    "print(evaluate(solution3), evaluate(solution4))"
   ]
  },
  {
   "cell_type": "markdown",
   "metadata": {},
   "source": [
    "## Breeding"
   ]
  },
  {
   "cell_type": "markdown",
   "metadata": {},
   "source": [
    "Creating a population of 20 new genes"
   ]
  },
  {
   "cell_type": "code",
   "execution_count": 57,
   "metadata": {},
   "outputs": [
    {
     "name": "stdout",
     "output_type": "stream",
     "text": [
      "[1, 4, 3, 5, 6, 4, 3, 6, 4, 8]\n",
      "population size: 20\n",
      "[5555555554, 4444444445, 5555554445, 4444445554, 5555554554, 4444445445, 5555545445, 4444454554, 5555454554, 4444545445, 5555455445, 4444544554, 5555455554, 4444544445, 5555544445, 4444455554, 5555545554, 4444454445, 5544454445, 4455545554]\n"
     ]
    }
   ],
   "source": [
    "population = []\n",
    "slice_points = []\n",
    "\n",
    "for i in range(0,10):\n",
    "    n = rand.randint(0,10)\n",
    "    slice_points.append(n)\n",
    "    if(len(population)<2):\n",
    "        childA, childB = crossover_solution(parent1, parent2, n)\n",
    "        population = population + [childA, childB]\n",
    "    else:\n",
    "        childA, childB = crossover_solution(population[-2], population[-1], n)\n",
    "        population = population + [childA, childB]\n",
    "\n",
    "print(slice_points)\n",
    "print(\"population size:\",len(population))\n",
    "print(population)"
   ]
  },
  {
   "cell_type": "markdown",
   "metadata": {},
   "source": [
    "## Population Evaluation"
   ]
  },
  {
   "cell_type": "code",
   "execution_count": 62,
   "metadata": {},
   "outputs": [
    {
     "name": "stdout",
     "output_type": "stream",
     "text": [
      "[49, 41, 47, 43, 48, 42, 47, 43, 47, 43, 47, 43, 48, 42, 46, 44, 48, 42, 44, 46]\n",
      "smallest evaluation: 41\n",
      "index of evaluation: 1\n",
      "evaluated gene: 4444444445\n"
     ]
    }
   ],
   "source": [
    "evaluations = [evaluate(child) for child in population]\n",
    "\n",
    "print(evaluations)\n",
    "print(\"smallest evaluation:\", min(evaluations))\n",
    "print(\"index of evaluation:\", evaluations.index(min(evaluations)))\n",
    "print(\"evaluated gene:\", population[evaluations.index(min(evaluations))])\n"
   ]
  }
 ],
 "metadata": {
  "kernelspec": {
   "display_name": "Python 3",
   "language": "python",
   "name": "python3"
  },
  "language_info": {
   "codemirror_mode": {
    "name": "ipython",
    "version": 3
   },
   "file_extension": ".py",
   "mimetype": "text/x-python",
   "name": "python",
   "nbconvert_exporter": "python",
   "pygments_lexer": "ipython3",
   "version": "3.7.3"
  }
 },
 "nbformat": 4,
 "nbformat_minor": 2
}
