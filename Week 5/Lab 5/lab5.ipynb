{
 "cells": [
  {
   "cell_type": "markdown",
   "metadata": {},
   "source": [
    "# Genetic Algorithms"
   ]
  },
  {
   "cell_type": "code",
   "execution_count": 1,
   "metadata": {},
   "outputs": [],
   "source": [
    "parent1, parent2 = 1234567890, 1335555999"
   ]
  },
  {
   "cell_type": "markdown",
   "metadata": {},
   "source": [
    "## Single-point Crossover"
   ]
  },
  {
   "cell_type": "code",
   "execution_count": 32,
   "metadata": {},
   "outputs": [
    {
     "name": "stdout",
     "output_type": "stream",
     "text": [
      "Slice after 6 digits\n",
      "1234565999 1335557890\n"
     ]
    }
   ],
   "source": [
    "import random as rand\n",
    "\n",
    "n = rand.randint(1,10)\n",
    "print(\"Slice after\", 10-n, \"digits\")\n",
    "\n",
    "def crossover_solution(n):\n",
    "    crossover_point = 10 ** n\n",
    "\n",
    "    pre1 = parent1 // crossover_point * crossover_point\n",
    "    post1 = parent1 % crossover_point\n",
    "    \n",
    "    pre2 = parent2 // crossover_point * crossover_point\n",
    "    post2 = parent2 % crossover_point\n",
    "\n",
    "    solutionA = pre1 + post2\n",
    "    solutionB = pre2 + post1\n",
    "\n",
    "    return solutionA, solutionB\n",
    "\n",
    "solution1, solution2 = crossover_solution(n)\n",
    "print(solution1, solution2)"
   ]
  },
  {
   "cell_type": "markdown",
   "metadata": {},
   "source": [
    "## Single-point Mutation"
   ]
  },
  {
   "cell_type": "markdown",
   "metadata": {},
   "source": [
    "Creating function to mutate a number of any length"
   ]
  },
  {
   "cell_type": "code",
   "execution_count": 18,
   "metadata": {},
   "outputs": [],
   "source": [
    "def mutate_solution(number):\n",
    "    number_str = str(number)\n",
    "    index = rand.randint(0, len(number_str) - 1)\n",
    "    print(\"Mutation of\", number,\"at index:\",index)\n",
    "    new_digit = str(rand.randint(0, 9))\n",
    "    \n",
    "    mutated_number = number_str[:index] + new_digit + number_str[index + 1:]\n",
    "    return int(mutated_number)"
   ]
  },
  {
   "cell_type": "code",
   "execution_count": 20,
   "metadata": {},
   "outputs": [
    {
     "name": "stdout",
     "output_type": "stream",
     "text": [
      "Mutation of 1234555999 at 1 index\n",
      "1834555999\n"
     ]
    }
   ],
   "source": [
    "solution3 = mutate_solution(solution1)\n",
    "print(solution3)"
   ]
  },
  {
   "cell_type": "code",
   "execution_count": 21,
   "metadata": {},
   "outputs": [
    {
     "name": "stdout",
     "output_type": "stream",
     "text": [
      "Mutation of 1335567890 at 5 index\n"
     ]
    }
   ],
   "source": [
    "solution4 = mutate_solution(solution2)"
   ]
  },
  {
   "cell_type": "markdown",
   "metadata": {},
   "source": [
    "## Simple Evaluation"
   ]
  },
  {
   "cell_type": "code",
   "execution_count": 22,
   "metadata": {},
   "outputs": [
    {
     "name": "stdout",
     "output_type": "stream",
     "text": [
      "3170123889\n"
     ]
    }
   ],
   "source": [
    "def evaluate(num1, num2):\n",
    "    return num1 + num2\n",
    "\n",
    "print(evaluate(solution3, solution4))"
   ]
  },
  {
   "cell_type": "markdown",
   "metadata": {},
   "source": [
    "## Breeding"
   ]
  },
  {
   "cell_type": "markdown",
   "metadata": {},
   "source": [
    "Creating a population of 20 new genes"
   ]
  },
  {
   "cell_type": "code",
   "execution_count": 41,
   "metadata": {},
   "outputs": [
    {
     "name": "stdout",
     "output_type": "stream",
     "text": [
      "population size: 20\n",
      "[1234555999, 1335567890, 1234555999, 1335567890, 1234567899, 1335555990, 1235555999, 1334567890, 1235555999, 1334567890, 1234555999, 1335567890, 1335555999, 1234567890, 1335555999, 1234567890, 1235555999, 1334567890, 1234555999, 1335567890]\n"
     ]
    }
   ],
   "source": [
    "population = []\n",
    "slice_points = []\n",
    "\n",
    "for i in range(0,10):\n",
    "    n = rand.randint(0,10)\n",
    "    slice_points.append(n)\n",
    "    childA, childB = crossover_solution(n)\n",
    "    population = population + [childA, childB]\n",
    "\n",
    "print(\"population size:\",len(population))\n",
    "print(population)"
   ]
  }
 ],
 "metadata": {
  "kernelspec": {
   "display_name": "Python 3",
   "language": "python",
   "name": "python3"
  },
  "language_info": {
   "codemirror_mode": {
    "name": "ipython",
    "version": 3
   },
   "file_extension": ".py",
   "mimetype": "text/x-python",
   "name": "python",
   "nbconvert_exporter": "python",
   "pygments_lexer": "ipython3",
   "version": "3.7.3"
  }
 },
 "nbformat": 4,
 "nbformat_minor": 2
}
