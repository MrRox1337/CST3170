{
 "cells": [
  {
   "cell_type": "markdown",
   "metadata": {},
   "source": [
    "# Travelling Salesman Problem"
   ]
  },
  {
   "cell_type": "markdown",
   "metadata": {},
   "source": [
    "## Step 1: Cities List"
   ]
  },
  {
   "cell_type": "markdown",
   "metadata": {},
   "source": [
    "Creating a list of all cities"
   ]
  },
  {
   "cell_type": "code",
   "execution_count": 2,
   "metadata": {},
   "outputs": [
    {
     "name": "stdout",
     "output_type": "stream",
     "text": [
      "[(1, 1), (5, 5), (10, 3), (2, 7)]\n"
     ]
    }
   ],
   "source": [
    "cities = [(1,1), (5,5), (10,3), (2,7)]\n",
    "print(cities)"
   ]
  },
  {
   "cell_type": "markdown",
   "metadata": {},
   "source": [
    "## Step 2: Get Distance"
   ]
  },
  {
   "cell_type": "markdown",
   "metadata": {},
   "source": [
    "Getting distance between two cities"
   ]
  },
  {
   "cell_type": "code",
   "execution_count": 3,
   "metadata": {},
   "outputs": [],
   "source": [
    "import math\n",
    "\n",
    "def getDistance(city1, city2):\n",
    "    xDiff = math.pow(city2[0]-city1[0],2)\n",
    "    yDiff = math.pow(city2[1]-city1[1],2)\n",
    "    return math.sqrt(xDiff + yDiff)"
   ]
  },
  {
   "cell_type": "code",
   "execution_count": 4,
   "metadata": {},
   "outputs": [
    {
     "data": {
      "text/plain": [
       "5.656854249492381"
      ]
     },
     "execution_count": 4,
     "metadata": {},
     "output_type": "execute_result"
    }
   ],
   "source": [
    "getDistance(cities[0], cities[1])"
   ]
  },
  {
   "cell_type": "markdown",
   "metadata": {},
   "source": [
    "## Step 3: Get Full Travel Distance"
   ]
  },
  {
   "cell_type": "markdown",
   "metadata": {},
   "source": [
    "Calculating total distance of one salesman route to visit all cities"
   ]
  },
  {
   "cell_type": "code",
   "execution_count": 5,
   "metadata": {},
   "outputs": [],
   "source": [
    "def cycle(route):\n",
    "    length = 0.0\n",
    "    for i in range(0,len(route)):\n",
    "        if (i == len(route)-1):\n",
    "            length += getDistance(route[i], route[0])\n",
    "            continue\n",
    "        length += getDistance(route[i], route[i+1])\n",
    "    return length"
   ]
  },
  {
   "cell_type": "markdown",
   "metadata": {},
   "source": [
    "## Step 4: Calculate Shortest Route"
   ]
  },
  {
   "cell_type": "markdown",
   "metadata": {},
   "source": [
    "Calculating the shortest salesman route to visit all cities"
   ]
  },
  {
   "cell_type": "code",
   "execution_count": 6,
   "metadata": {},
   "outputs": [],
   "source": [
    "import itertools as it\n",
    "\n",
    "def getBestPath():\n",
    "    routes = list(it.permutations(cities))\n",
    "    shortestPath = []\n",
    "    shortestLength = cycle(routes[0])\n",
    "\n",
    "    for route in routes:\n",
    "        currentLength=cycle(route)\n",
    "        if(currentLength < shortestLength):\n",
    "            shortestLength = currentLength\n",
    "            shortestPath = route\n",
    "    \n",
    "    return (shortestPath, shortestLength)\n",
    "\n",
    "\n"
   ]
  },
  {
   "cell_type": "markdown",
   "metadata": {},
   "source": [
    "## Result"
   ]
  },
  {
   "cell_type": "markdown",
   "metadata": {},
   "source": [
    "Best route details"
   ]
  },
  {
   "cell_type": "code",
   "execution_count": 7,
   "metadata": {},
   "outputs": [
    {
     "name": "stdout",
     "output_type": "stream",
     "text": [
      "Route =  ((1, 1), (10, 3), (5, 5), (2, 7))\n",
      "Total Travel Length =  24.293023070189598\n"
     ]
    }
   ],
   "source": [
    "route, dist = getBestPath()\n",
    "print(\"Route = \", route)\n",
    "print(\"Total Travel Length = \", dist)"
   ]
  }
 ],
 "metadata": {
  "kernelspec": {
   "display_name": "Python 3",
   "language": "python",
   "name": "python3"
  },
  "language_info": {
   "codemirror_mode": {
    "name": "ipython",
    "version": 3
   },
   "file_extension": ".py",
   "mimetype": "text/x-python",
   "name": "python",
   "nbconvert_exporter": "python",
   "pygments_lexer": "ipython3",
   "version": "3.7.3"
  }
 },
 "nbformat": 4,
 "nbformat_minor": 2
}
