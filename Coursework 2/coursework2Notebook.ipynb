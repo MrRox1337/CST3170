{
  "cells": [
    {
      "cell_type": "markdown",
      "metadata": {
        "id": "view-in-github",
        "colab_type": "text"
      },
      "source": [
        "<a href=\"https://colab.research.google.com/github/MrRox1337/CST3170/blob/main/Coursework%202/coursework2Notebook.ipynb\" target=\"_parent\"><img src=\"https://colab.research.google.com/assets/colab-badge.svg\" alt=\"Open In Colab\"/></a>"
      ]
    },
    {
      "cell_type": "markdown",
      "id": "e5559f4c-6651-41d2-baf9-b1485cbb0afb",
      "metadata": {
        "id": "e5559f4c-6651-41d2-baf9-b1485cbb0afb"
      },
      "source": [
        "# CST3170 Coursework - AI Model Development\n",
        "\n",
        "By: Aman Mishra\n",
        "MISIS: M00983641\n",
        "Professor: Dr. Maha Saadeh\n",
        "\n",
        "This notebook uses training dataset to learn the type of digit based on neural activations. It generates the prediction model and applies it to a new testing dataset to predict a base10 digit.\n",
        "\n",
        "The training uses Neural Netwoks, especially Multi-Layered Perceptrons to create hidden layers and apply feed forward functions to get a bias toward the correct number."
      ]
    },
    {
      "cell_type": "markdown",
      "source": [
        "## Setup"
      ],
      "metadata": {
        "id": "Sq_971WycNn8"
      },
      "id": "Sq_971WycNn8"
    },
    {
      "cell_type": "markdown",
      "source": [
        "In this section we will set up the dataset repository, neurons, and functions used for Multi-Layered Perceptron."
      ],
      "metadata": {
        "id": "QlaFGY-7zQ5F"
      },
      "id": "QlaFGY-7zQ5F"
    },
    {
      "cell_type": "markdown",
      "source": [
        "### Import datasets from Google Drive"
      ],
      "metadata": {
        "id": "edwcDalecQct"
      },
      "id": "edwcDalecQct"
    },
    {
      "cell_type": "code",
      "source": [
        "from google.colab import drive\n",
        "drive.mount('/content/drive')"
      ],
      "metadata": {
        "colab": {
          "base_uri": "https://localhost:8080/"
        },
        "id": "E06ZrzVLDGQK",
        "outputId": "5351a8a5-c827-4de4-ee2c-9c17ed6e1e9c"
      },
      "id": "E06ZrzVLDGQK",
      "execution_count": null,
      "outputs": [
        {
          "output_type": "stream",
          "name": "stdout",
          "text": [
            "Drive already mounted at /content/drive; to attempt to forcibly remount, call drive.mount(\"/content/drive\", force_remount=True).\n"
          ]
        }
      ]
    },
    {
      "cell_type": "markdown",
      "source": [
        "### Import modules for matrix manipulation"
      ],
      "metadata": {
        "id": "ny2ShaXLcGFM"
      },
      "id": "ny2ShaXLcGFM"
    },
    {
      "cell_type": "code",
      "execution_count": null,
      "id": "24ad75db-cf58-43f3-a868-c6165a53031d",
      "metadata": {
        "id": "24ad75db-cf58-43f3-a868-c6165a53031d"
      },
      "outputs": [],
      "source": [
        "import numpy as np\n",
        "import pandas as pd"
      ]
    },
    {
      "cell_type": "markdown",
      "source": [
        "### Hidden layers and weights"
      ],
      "metadata": {
        "id": "gKq4u1wWcVdN"
      },
      "id": "gKq4u1wWcVdN"
    },
    {
      "cell_type": "code",
      "execution_count": null,
      "id": "d430d75b",
      "metadata": {
        "id": "d430d75b"
      },
      "outputs": [],
      "source": [
        "# Set h (number of hidden neurons)\n",
        "h = 64  # Number of hidden neurons (can be modified)\n",
        "\n",
        "# Global arrays for outputs\n",
        "outputHidden = np.zeros(h)  # Hidden layer outputs\n",
        "outputneuron = np.zeros(10)  # Output layer outputs\n",
        "\n",
        "# Initialize random weights for the input-hidden and hidden-output connections\n",
        "WH = np.random.uniform(-1, 1, (h, 64))  # Weights between input and hidden layer\n",
        "WO = np.random.uniform(-1, 1, (10, h))  # Weights between hidden and output layer"
      ]
    },
    {
      "cell_type": "markdown",
      "source": [
        "### Feedfoward function"
      ],
      "metadata": {
        "id": "Ivki7SwIcf1k"
      },
      "id": "Ivki7SwIcf1k"
    },
    {
      "cell_type": "code",
      "execution_count": null,
      "id": "0d3d0805",
      "metadata": {
        "id": "0d3d0805"
      },
      "outputs": [],
      "source": [
        "# Feedforward method to calculate outputs\n",
        "def feedforward(dataSample):\n",
        "    global outputHidden, outputneuron\n",
        "\n",
        "    # Compute the output of the hidden neurons\n",
        "    for i in range(h):\n",
        "        weighted_sum_hidden = np.dot(dataSample, WH[i])  # Weighted sum for hidden neuron i\n",
        "        outputHidden[i] = sigmoid(weighted_sum_hidden)  # Apply sigmoid\n",
        "\n",
        "    # Compute the output of the output neurons\n",
        "    for i in range(10):\n",
        "        weighted_sum_output = np.dot(outputHidden, WO[i])  # Weighted sum for output neuron i\n",
        "        outputneuron[i] = 1 if weighted_sum_output >= 0 else 0  # Apply threshold"
      ]
    },
    {
      "cell_type": "markdown",
      "source": [
        "### Sigmoid function"
      ],
      "metadata": {
        "id": "7qMpXZfddF_-"
      },
      "id": "7qMpXZfddF_-"
    },
    {
      "cell_type": "code",
      "source": [
        "# Sigmoid activation function\n",
        "def sigmoid(x):\n",
        "    return 1 / (1 + np.exp(-x))"
      ],
      "metadata": {
        "id": "jzhwXIY5dJlC"
      },
      "id": "jzhwXIY5dJlC",
      "execution_count": null,
      "outputs": []
    },
    {
      "cell_type": "markdown",
      "source": [
        "### Validation function"
      ],
      "metadata": {
        "id": "Y4IhjQfTdNy5"
      },
      "id": "Y4IhjQfTdNy5"
    },
    {
      "cell_type": "code",
      "source": [
        "# Test error method to compare outputneuron with Map\n",
        "def testError(Map):\n",
        "    for i in range(10):\n",
        "        if Map[i] != outputneuron[i]:\n",
        "            return True\n",
        "    return False"
      ],
      "metadata": {
        "id": "WBFgi4jLd-iY"
      },
      "id": "WBFgi4jLd-iY",
      "execution_count": null,
      "outputs": []
    },
    {
      "cell_type": "markdown",
      "source": [
        "### Model training function"
      ],
      "metadata": {
        "id": "RcL9kcneeBXY"
      },
      "id": "RcL9kcneeBXY"
    },
    {
      "cell_type": "code",
      "execution_count": null,
      "id": "7a20ef01",
      "metadata": {
        "id": "7a20ef01"
      },
      "outputs": [],
      "source": [
        "# Training method to adjust weights based on the errors\n",
        "def training(Map, dataSample, learningRate=0.0125):\n",
        "    global WH, WO\n",
        "\n",
        "    # Compute error for the output neurons\n",
        "    errorOutput = np.zeros(10)  # Error for the output neurons\n",
        "    for i in range(10):\n",
        "        errorOutput[i] = Map[i] - outputneuron[i]\n",
        "\n",
        "    # Compute error for the hidden neurons\n",
        "    errorHidden = np.zeros(h)  # Error for the hidden neurons\n",
        "    for j in range(h):\n",
        "        errorTemp = 0\n",
        "        for i in range(10):\n",
        "            errorTemp += errorOutput[i] * WO[i][j]\n",
        "        errorHidden[j] = outputHidden[j] * (1 - outputHidden[j]) * errorTemp\n",
        "\n",
        "    # Adjust weights between hidden and output neurons (WO)\n",
        "    for i in range(10):  # Loop over output neurons\n",
        "        for j in range(h):  # Loop over hidden neurons\n",
        "            WO[i][j] += learningRate * outputHidden[j] * errorOutput[i]\n",
        "\n",
        "    # Adjust weights between input and hidden neurons (WH)\n",
        "    for i in range(h):  # Loop over hidden neurons\n",
        "        for j in range(64):  # Loop over input data sample\n",
        "            WH[i][j] += learningRate * dataSample[j] * errorHidden[i]"
      ]
    },
    {
      "cell_type": "markdown",
      "source": [
        "## Training"
      ],
      "metadata": {
        "id": "OAF0oORuedKW"
      },
      "id": "OAF0oORuedKW"
    },
    {
      "cell_type": "markdown",
      "source": [
        "### Load training dataset and set hyperparameters"
      ],
      "metadata": {
        "id": "Nh8OEEuPei6f"
      },
      "id": "Nh8OEEuPei6f"
    },
    {
      "cell_type": "code",
      "execution_count": null,
      "id": "b2b09176",
      "metadata": {
        "id": "b2b09176"
      },
      "outputs": [],
      "source": [
        "# Load the training data from CSV\n",
        "training_data_path = '/content/drive/MyDrive/cw2DataSet1.csv'  # Ensure this is the correct path\n",
        "training_data = pd.read_csv(training_data_path)\n",
        "\n",
        "# Set learning rate and number of cycles\n",
        "learningRate = 0.0095\n",
        "total_cycles = 550  # Total number of training cycles\n",
        "display_interval = 50  # Display accuracy after every 50 cycles"
      ]
    },
    {
      "cell_type": "markdown",
      "source": [
        "### Build prediction model"
      ],
      "metadata": {
        "id": "p2HBT81Me3ms"
      },
      "id": "p2HBT81Me3ms"
    },
    {
      "cell_type": "code",
      "execution_count": null,
      "id": "d340662a",
      "metadata": {
        "colab": {
          "base_uri": "https://localhost:8080/"
        },
        "id": "d340662a",
        "outputId": "bd4cd7b3-e507-4a37-c6d6-1a361014e368"
      },
      "outputs": [
        {
          "output_type": "stream",
          "name": "stdout",
          "text": [
            "Cycle 1, Accuracy: 0.3293\n",
            "Cycle 2, Accuracy: 0.5685\n",
            "Cycle 3, Accuracy: 0.6614\n",
            "Cycle 4, Accuracy: 0.7191\n",
            "Cycle 5, Accuracy: 0.7433\n",
            "Cycle 6, Accuracy: 0.7811\n",
            "Cycle 7, Accuracy: 0.7917\n",
            "Cycle 8, Accuracy: 0.8156\n",
            "Cycle 9, Accuracy: 0.8309\n",
            "Cycle 10, Accuracy: 0.8423\n",
            "Cycle 11, Accuracy: 0.8451\n",
            "Cycle 12, Accuracy: 0.8537\n",
            "Cycle 13, Accuracy: 0.8601\n",
            "Cycle 14, Accuracy: 0.8565\n",
            "Cycle 15, Accuracy: 0.8683\n",
            "Cycle 16, Accuracy: 0.8815\n",
            "Cycle 17, Accuracy: 0.8825\n",
            "Cycle 18, Accuracy: 0.8889\n",
            "Cycle 19, Accuracy: 0.8978\n",
            "Cycle 20, Accuracy: 0.8925\n",
            "Cycle 21, Accuracy: 0.8996\n",
            "Cycle 50, Accuracy: 0.9534\n",
            "Cycle 100, Accuracy: 0.9754\n",
            "Cycle 150, Accuracy: 0.9811\n",
            "Cycle 200, Accuracy: 0.9868\n",
            "Cycle 250, Accuracy: 0.9907\n",
            "Cycle 300, Accuracy: 0.9900\n",
            "Cycle 350, Accuracy: 0.9872\n",
            "Cycle 400, Accuracy: 0.9900\n",
            "Cycle 450, Accuracy: 0.9979\n",
            "Cycle 500, Accuracy: 0.9986\n",
            "Cycle 550, Accuracy: 1.0000\n"
          ]
        }
      ],
      "source": [
        "# Iterate through the cycles\n",
        "for cycle in range(total_cycles):\n",
        "    success = 0\n",
        "    total_rows = len(training_data)\n",
        "\n",
        "    # Process each data sample\n",
        "    for _, row in training_data.iterrows():\n",
        "        dataSample = row[:-1].values  # First 64 columns as dataSample\n",
        "        targetOutput = int(row.iloc[-1])  # Last column as targetOutput using iloc\n",
        "\n",
        "        # Initialize the Map array to zeros\n",
        "        Map = np.zeros(10)\n",
        "        Map[targetOutput] = 1  # Set the target output index to 1\n",
        "\n",
        "        # Feedforward\n",
        "        feedforward(dataSample)\n",
        "\n",
        "        # Test error and update weights if needed\n",
        "        if testError(Map):\n",
        "            training(Map, dataSample, learningRate)\n",
        "        else:\n",
        "            success += 1\n",
        "\n",
        "    # Calculate accuracy at the end of each cycle\n",
        "    accuracy = success / total_rows\n",
        "\n",
        "    # Display the accuracy after every 50 cycles\n",
        "    if ((cycle + 1) % display_interval == 0) or (cycle <= 20):\n",
        "        print(f\"Cycle {cycle + 1}, Accuracy: {accuracy:.4f}\")"
      ]
    },
    {
      "cell_type": "markdown",
      "source": [
        "## Testing"
      ],
      "metadata": {
        "id": "CFguS_htgAtJ"
      },
      "id": "CFguS_htgAtJ"
    },
    {
      "cell_type": "markdown",
      "source": [
        "### Load test dataset"
      ],
      "metadata": {
        "id": "ZULSRgbxfykq"
      },
      "id": "ZULSRgbxfykq"
    },
    {
      "cell_type": "code",
      "source": [
        "# Load the testing data from CSV\n",
        "testing_data_path = '/content/drive/MyDrive/cw2DataSet2.csv'  # Ensure this is the correct path\n",
        "testing_data = pd.read_csv(training_data_path)"
      ],
      "metadata": {
        "id": "Xw94HdBHN0Zg"
      },
      "id": "Xw94HdBHN0Zg",
      "execution_count": null,
      "outputs": []
    },
    {
      "cell_type": "markdown",
      "source": [
        "### Test generated model"
      ],
      "metadata": {
        "id": "3e0BJ5m0f6Yd"
      },
      "id": "3e0BJ5m0f6Yd"
    },
    {
      "cell_type": "code",
      "source": [
        "success = 0\n",
        "total_rows = len(testing_data)\n",
        "\n",
        "# Process each data sample\n",
        "for _, row in testing_data.iterrows():\n",
        "    dataSample = row[:-1].values  # First 64 columns as dataSample\n",
        "    targetOutput = int(row.iloc[-1])  # Last column as targetOutput using iloc\n",
        "\n",
        "    # Initialize the Map array to zeros\n",
        "    Map = np.zeros(10)\n",
        "    Map[targetOutput] = 1  # Set the target output index to 1\n",
        "\n",
        "    # Feedforward\n",
        "    feedforward(dataSample)\n",
        "\n",
        "    # Test error and update weights if needed\n",
        "    if not testError(Map):\n",
        "        success += 1\n",
        "\n",
        "# Calculate accuracy at the end of testing\n",
        "accuracy = success / total_rows\n",
        "print(f\"Testing Accuracy: {accuracy:.4f}\")"
      ],
      "metadata": {
        "colab": {
          "base_uri": "https://localhost:8080/"
        },
        "id": "5HA96NOVO4Nk",
        "outputId": "084e8ec7-a7b5-4b8e-9dfd-5c768d8720c5"
      },
      "id": "5HA96NOVO4Nk",
      "execution_count": null,
      "outputs": [
        {
          "output_type": "stream",
          "name": "stdout",
          "text": [
            "Testing Accuracy: 1.0000\n"
          ]
        }
      ]
    }
  ],
  "metadata": {
    "kernelspec": {
      "display_name": "Python 3",
      "language": "python",
      "name": "python3"
    },
    "language_info": {
      "codemirror_mode": {
        "name": "ipython",
        "version": 3
      },
      "file_extension": ".py",
      "mimetype": "text/x-python",
      "name": "python",
      "nbconvert_exporter": "python",
      "pygments_lexer": "ipython3",
      "version": "3.7.3"
    },
    "colab": {
      "provenance": [],
      "include_colab_link": true
    }
  },
  "nbformat": 4,
  "nbformat_minor": 5
}