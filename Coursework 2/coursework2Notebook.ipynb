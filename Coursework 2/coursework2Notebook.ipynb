{
  "cells": [
    {
      "cell_type": "markdown",
      "metadata": {
        "id": "view-in-github",
        "colab_type": "text"
      },
      "source": [
        "<a href=\"https://colab.research.google.com/github/MrRox1337/CST3170/blob/main/Coursework%202/coursework2Notebook.ipynb\" target=\"_parent\"><img src=\"https://colab.research.google.com/assets/colab-badge.svg\" alt=\"Open In Colab\"/></a>"
      ]
    },
    {
      "cell_type": "markdown",
      "id": "e5559f4c-6651-41d2-baf9-b1485cbb0afb",
      "metadata": {
        "id": "e5559f4c-6651-41d2-baf9-b1485cbb0afb"
      },
      "source": [
        "# CST3170 Coursework - AI Model Development\n",
        "\n",
        "By: Aman Mishra\n",
        "MISIS: M00983641\n",
        "Professor: Dr. Maha Saadeh\n",
        "\n",
        "This notebook demonstrates the development of a neural network model to recognize handwritten digits. It uses a training dataset to teach the network to identify digits (0-9) based on their features and applies the trained model to predict digits in a separate test dataset. The implementation employs Multi-Layer Perceptrons (MLP), focusing on forward propagation, activation functions, and iterative weight adjustments through training."
      ]
    },
    {
      "cell_type": "markdown",
      "id": "Sq_971WycNn8",
      "metadata": {
        "id": "Sq_971WycNn8"
      },
      "source": [
        "## Setup\n",
        "In this section, we configure the environment for model development. This involves loading the datasets, defining necessary mathematical and neural network functions, and initializing parameters for training the Multi-Layer Perceptron model."
      ]
    },
    {
      "cell_type": "markdown",
      "id": "edwcDalecQct",
      "metadata": {
        "id": "edwcDalecQct"
      },
      "source": [
        "### Import datasets from Google Drive\n",
        "\n",
        "Before proceeding, the notebook connects to the Drive to access the training and testing datasets."
      ]
    },
    {
      "cell_type": "code",
      "execution_count": 1,
      "id": "E06ZrzVLDGQK",
      "metadata": {
        "colab": {
          "base_uri": "https://localhost:8080/"
        },
        "id": "E06ZrzVLDGQK",
        "outputId": "21773aaf-872b-44ae-f66a-feb2568a9ae8"
      },
      "outputs": [
        {
          "output_type": "stream",
          "name": "stdout",
          "text": [
            "Mounted at /content/drive\n"
          ]
        }
      ],
      "source": [
        "from google.colab import drive\n",
        "drive.mount('/content/drive')"
      ]
    },
    {
      "cell_type": "markdown",
      "id": "ny2ShaXLcGFM",
      "metadata": {
        "id": "ny2ShaXLcGFM"
      },
      "source": [
        "### Import modules for matrix manipulation\n",
        "\n",
        "This section imports essential libraries for numerical and data manipulation:\n",
        "*  NumPy: For efficient mathematical operations like matrix multiplication and random number generation.\n",
        "*  Pandas: For loading and preprocessing data from the training and testing datasets.\n",
        "\n"
      ]
    },
    {
      "cell_type": "code",
      "execution_count": 2,
      "id": "24ad75db-cf58-43f3-a868-c6165a53031d",
      "metadata": {
        "id": "24ad75db-cf58-43f3-a868-c6165a53031d"
      },
      "outputs": [],
      "source": [
        "import numpy as np\n",
        "import pandas as pd"
      ]
    },
    {
      "cell_type": "markdown",
      "id": "gKq4u1wWcVdN",
      "metadata": {
        "id": "gKq4u1wWcVdN"
      },
      "source": [
        "### Hidden layers and weights\n",
        "Here, we define the hidden layer parameters for the neural network:\n",
        "*   Hidden neurons: Each of the 64 neurons represents a pixel in the 8x8 input image.\n",
        "*   Weights: Randomly initialize weights connecting input to hidden layers with a 64x64 matrix and hidden to output layers with a 10x64 matrix."
      ]
    },
    {
      "cell_type": "code",
      "execution_count": 3,
      "id": "d430d75b",
      "metadata": {
        "id": "d430d75b"
      },
      "outputs": [],
      "source": [
        "# Set h (number of hidden neurons)\n",
        "h = 64  # Number of hidden neurons (can be modified)\n",
        "\n",
        "# Global arrays for outputs\n",
        "outputHidden = np.zeros(h)  # Hidden layer outputs\n",
        "outputneuron = np.zeros(10)  # Output layer outputs\n",
        "\n",
        "# Initialize random weights for the input-hidden and hidden-output connections\n",
        "WH = np.random.uniform(-1, 1, (h, 64))  # Weights between input and hidden layer\n",
        "WO = np.random.uniform(-1, 1, (10, h))  # Weights between hidden and output layer"
      ]
    },
    {
      "cell_type": "markdown",
      "id": "7qMpXZfddF_-",
      "metadata": {
        "id": "7qMpXZfddF_-"
      },
      "source": [
        "### Sigmoid function\n",
        "The sigmoid function is a mathematical activation function that introduces non-linearity into the model. It outputs values between 0 and 1, making it ideal for binary classification and probabilistic interpretations."
      ]
    },
    {
      "cell_type": "code",
      "execution_count": 4,
      "id": "jzhwXIY5dJlC",
      "metadata": {
        "id": "jzhwXIY5dJlC"
      },
      "outputs": [],
      "source": [
        "# Sigmoid activation function\n",
        "def sigmoid(weighted_sum):\n",
        "    return 1 / (1 + np.exp(-weighted_sum))"
      ]
    },
    {
      "cell_type": "markdown",
      "id": "3tut1TpocI39",
      "metadata": {
        "id": "3tut1TpocI39"
      },
      "source": [
        "### Step function\n",
        "\n",
        "The step activation function is a threshold-based function that outputs 0 or 1 (a fixed value) depending on whether the input surpasses a specified threshold."
      ]
    },
    {
      "cell_type": "code",
      "execution_count": 5,
      "id": "LwEbFSkvdBJq",
      "metadata": {
        "id": "LwEbFSkvdBJq"
      },
      "outputs": [],
      "source": [
        "def step(weighted_sum):\n",
        "  return 1 if weighted_sum >= 0 else 0"
      ]
    },
    {
      "cell_type": "markdown",
      "id": "d6047c2b",
      "metadata": {
        "id": "d6047c2b"
      },
      "source": [
        "### Feedfoward function\n",
        "\n",
        "This section defines the feedforward function, a core component of the neural network:\n",
        "* It calculates the outputs of the hidden and output layers using matrix multiplication and activation functions.\n",
        "* The sigmoid function is used for hidden layer activation, while a step function determines output layer values.\n",
        "\n",
        "\n"
      ]
    },
    {
      "cell_type": "code",
      "execution_count": 6,
      "id": "266261c7",
      "metadata": {
        "id": "266261c7"
      },
      "outputs": [],
      "source": [
        "# Feedforward method to calculate outputs\n",
        "def feedforward(dataSample):\n",
        "    global outputHidden, outputneuron\n",
        "\n",
        "    # Compute the output of the hidden neurons\n",
        "    for i in range(h):\n",
        "        weighted_sum_hidden = np.dot(dataSample, WH[i])  # Weighted sum for hidden neuron i\n",
        "        outputHidden[i] = sigmoid(weighted_sum_hidden)  # Apply sigmoid\n",
        "\n",
        "    # Compute the output of the output neurons\n",
        "    for i in range(10):\n",
        "        weighted_sum_output = np.dot(outputHidden, WO[i])  # Weighted sum for output neuron i\n",
        "        outputneuron[i] = step(weighted_sum_output)  # Apply step"
      ]
    },
    {
      "cell_type": "markdown",
      "id": "Y4IhjQfTdNy5",
      "metadata": {
        "id": "Y4IhjQfTdNy5"
      },
      "source": [
        "### Validation function\n",
        "The validation function compares the predicted output with the expected target output (map). It identifies mismatches, which indicate errors that will guide weight adjustments during training or assist with calculating success during testing."
      ]
    },
    {
      "cell_type": "code",
      "execution_count": 7,
      "id": "WBFgi4jLd-iY",
      "metadata": {
        "id": "WBFgi4jLd-iY"
      },
      "outputs": [],
      "source": [
        "# Test error method to compare outputneuron with Map\n",
        "def testError(Map):\n",
        "    for i in range(10):\n",
        "        if Map[i] != outputneuron[i]:\n",
        "            return True\n",
        "    return False"
      ]
    },
    {
      "cell_type": "markdown",
      "id": "RcL9kcneeBXY",
      "metadata": {
        "id": "RcL9kcneeBXY"
      },
      "source": [
        "### Model training function\n",
        "This function performs supervised learning:\n",
        "* It calculates errors for output and hidden neurons.\n",
        "*   Updates weights between layers based on the error gradients, using backpropagation.\n",
        "*   The learning rate controls the speed of weight updates to optimize the model."
      ]
    },
    {
      "cell_type": "code",
      "execution_count": 8,
      "id": "7a20ef01",
      "metadata": {
        "id": "7a20ef01"
      },
      "outputs": [],
      "source": [
        "# Training method to adjust weights based on the errors\n",
        "def training(Map, dataSample, learningRate=0.0125):\n",
        "    global WH, WO\n",
        "\n",
        "    # Compute error for the output neurons\n",
        "    errorOutput = np.zeros(10)  # Error for the output neurons\n",
        "    for i in range(10):\n",
        "        errorOutput[i] = Map[i] - outputneuron[i]\n",
        "\n",
        "    # Compute error for the hidden neurons\n",
        "    errorHidden = np.zeros(h)  # Error for the hidden neurons\n",
        "    for j in range(h):\n",
        "        errorTemp = 0\n",
        "        for i in range(10):\n",
        "            errorTemp += errorOutput[i] * WO[i][j]\n",
        "        errorHidden[j] = outputHidden[j] * (1 - outputHidden[j]) * errorTemp\n",
        "\n",
        "    # Adjust weights between hidden and output neurons (WO)\n",
        "    for i in range(10):  # Loop over output neurons\n",
        "        for j in range(h):  # Loop over hidden neurons\n",
        "            WO[i][j] += learningRate * outputHidden[j] * errorOutput[i]\n",
        "\n",
        "    # Adjust weights between input and hidden neurons (WH)\n",
        "    for i in range(h):  # Loop over hidden neurons\n",
        "        for j in range(64):  # Loop over input data sample\n",
        "            WH[i][j] += learningRate * dataSample[j] * errorHidden[i]"
      ]
    },
    {
      "cell_type": "markdown",
      "id": "OAF0oORuedKW",
      "metadata": {
        "id": "OAF0oORuedKW"
      },
      "source": [
        "## Training"
      ]
    },
    {
      "cell_type": "markdown",
      "id": "Nh8OEEuPei6f",
      "metadata": {
        "id": "Nh8OEEuPei6f"
      },
      "source": [
        "### Load training dataset and set hyperparameters\n",
        "In this section, the training dataset is loaded, and hyperparameters are defined:\n",
        "* Learning rate: Controls the rate of weight updates.\n",
        "* Total cycles: Number of iterations for training the model.\n",
        "* Display interval: Frequency of accuracy reporting during training."
      ]
    },
    {
      "cell_type": "code",
      "execution_count": 9,
      "id": "b2b09176",
      "metadata": {
        "id": "b2b09176"
      },
      "outputs": [],
      "source": [
        "# Load the training data from CSV\n",
        "training_data_path = '/content/drive/MyDrive/cw2DataSet1.csv'  # Ensure this is the correct path\n",
        "training_data = pd.read_csv(training_data_path)\n",
        "\n",
        "# Set learning rate and number of cycles\n",
        "learningRate = 0.0095\n",
        "total_cycles = 550  # Total number of training cycles\n",
        "display_interval = 50  # Display accuracy after every 50 cycles"
      ]
    },
    {
      "cell_type": "markdown",
      "id": "p2HBT81Me3ms",
      "metadata": {
        "id": "p2HBT81Me3ms"
      },
      "source": [
        "### Build prediction model\n",
        "This code runs the training loop:\n",
        "* Processes each data sample in the training dataset.\n",
        "* Uses the feedforward function to predict outputs.\n",
        "* Compares predictions to expected outputs, updating weights to reduce errors.\n",
        "* Tracks and displays model accuracy after specified intervals."
      ]
    },
    {
      "cell_type": "code",
      "execution_count": 10,
      "id": "d340662a",
      "metadata": {
        "colab": {
          "base_uri": "https://localhost:8080/"
        },
        "id": "d340662a",
        "outputId": "c319529d-ac60-462d-88a3-3bd8dad25203"
      },
      "outputs": [
        {
          "output_type": "stream",
          "name": "stdout",
          "text": [
            "Cycle 1, Accuracy: 0.3738\n",
            "Cycle 2, Accuracy: 0.6205\n",
            "Cycle 3, Accuracy: 0.7002\n",
            "Cycle 4, Accuracy: 0.7551\n",
            "Cycle 5, Accuracy: 0.7850\n",
            "Cycle 6, Accuracy: 0.7889\n",
            "Cycle 7, Accuracy: 0.8181\n",
            "Cycle 8, Accuracy: 0.8384\n",
            "Cycle 9, Accuracy: 0.8501\n",
            "Cycle 10, Accuracy: 0.8537\n",
            "Cycle 11, Accuracy: 0.8765\n",
            "Cycle 12, Accuracy: 0.8886\n",
            "Cycle 13, Accuracy: 0.8950\n",
            "Cycle 14, Accuracy: 0.8914\n",
            "Cycle 15, Accuracy: 0.9057\n",
            "Cycle 16, Accuracy: 0.9010\n",
            "Cycle 17, Accuracy: 0.9171\n",
            "Cycle 18, Accuracy: 0.9138\n",
            "Cycle 19, Accuracy: 0.9171\n",
            "Cycle 20, Accuracy: 0.9146\n",
            "Cycle 21, Accuracy: 0.9146\n",
            "Cycle 50, Accuracy: 0.9580\n",
            "Cycle 100, Accuracy: 0.9776\n",
            "Cycle 150, Accuracy: 0.9794\n",
            "Cycle 200, Accuracy: 0.9886\n",
            "Cycle 250, Accuracy: 0.9847\n",
            "Cycle 300, Accuracy: 0.9858\n",
            "Cycle 350, Accuracy: 0.9918\n",
            "Cycle 400, Accuracy: 0.9922\n",
            "Cycle 450, Accuracy: 0.9982\n",
            "Cycle 500, Accuracy: 0.9986\n",
            "Cycle 550, Accuracy: 1.0000\n"
          ]
        }
      ],
      "source": [
        "# Iterate through the cycles\n",
        "for cycle in range(total_cycles):\n",
        "    success = 0\n",
        "    total_rows = len(training_data)\n",
        "\n",
        "    # Process each data sample\n",
        "    for _, row in training_data.iterrows():\n",
        "        dataSample = row[:-1].values  # First 64 columns as dataSample\n",
        "        targetOutput = int(row.iloc[-1])  # Last column as targetOutput using iloc\n",
        "\n",
        "        # Initialize the Map array to zeros\n",
        "        Map = np.zeros(10)\n",
        "        Map[targetOutput] = 1  # Set the target output index to 1\n",
        "\n",
        "        # Feedforward\n",
        "        feedforward(dataSample)\n",
        "\n",
        "        # Test error and update weights if needed\n",
        "        if testError(Map):\n",
        "            training(Map, dataSample, learningRate)\n",
        "        else:\n",
        "            success += 1\n",
        "\n",
        "    # Calculate accuracy at the end of each cycle\n",
        "    accuracy = success / total_rows\n",
        "\n",
        "    # Display the accuracy after every 50 cycles\n",
        "    if ((cycle + 1) % display_interval == 0) or (cycle <= 20):\n",
        "        print(f\"Cycle {cycle + 1}, Accuracy: {accuracy:.4f}\")"
      ]
    },
    {
      "cell_type": "markdown",
      "id": "CFguS_htgAtJ",
      "metadata": {
        "id": "CFguS_htgAtJ"
      },
      "source": [
        "## Testing\n",
        "This section evaluates the model's performance on unseen data using the testing dataset:\n",
        "* Predicts outputs for each sample using the trained model.\n",
        "* Calculates and reports overall accuracy, providing insight into the model's generalization capability."
      ]
    },
    {
      "cell_type": "markdown",
      "id": "ZULSRgbxfykq",
      "metadata": {
        "id": "ZULSRgbxfykq"
      },
      "source": [
        "### Load test dataset"
      ]
    },
    {
      "cell_type": "code",
      "execution_count": 11,
      "id": "Xw94HdBHN0Zg",
      "metadata": {
        "id": "Xw94HdBHN0Zg"
      },
      "outputs": [],
      "source": [
        "# Load the testing data from CSV\n",
        "testing_data_path = '/content/drive/MyDrive/cw2DataSet2.csv'  # Ensure this is the correct path\n",
        "testing_data = pd.read_csv(training_data_path)"
      ]
    },
    {
      "cell_type": "markdown",
      "id": "3e0BJ5m0f6Yd",
      "metadata": {
        "id": "3e0BJ5m0f6Yd"
      },
      "source": [
        "### Test generated model"
      ]
    },
    {
      "cell_type": "code",
      "execution_count": 12,
      "id": "5HA96NOVO4Nk",
      "metadata": {
        "colab": {
          "base_uri": "https://localhost:8080/"
        },
        "id": "5HA96NOVO4Nk",
        "outputId": "c57f3f33-9b91-4e3b-a485-a7318fc4ff48"
      },
      "outputs": [
        {
          "output_type": "stream",
          "name": "stdout",
          "text": [
            "Testing Accuracy: 1.0000\n"
          ]
        }
      ],
      "source": [
        "success = 0\n",
        "total_rows = len(testing_data)\n",
        "\n",
        "# Process each data sample\n",
        "for _, row in testing_data.iterrows():\n",
        "    dataSample = row[:-1].values  # First 64 columns as dataSample\n",
        "    targetOutput = int(row.iloc[-1])  # Last column as targetOutput using iloc\n",
        "\n",
        "    # Initialize the Map array to zeros\n",
        "    Map = np.zeros(10)\n",
        "    Map[targetOutput] = 1  # Set the target output index to 1\n",
        "\n",
        "    # Feedforward\n",
        "    feedforward(dataSample)\n",
        "\n",
        "    # Test error and update weights if needed\n",
        "    if not testError(Map):\n",
        "        success += 1\n",
        "\n",
        "# Calculate accuracy at the end of testing\n",
        "accuracy = success / total_rows\n",
        "print(f\"Testing Accuracy: {accuracy:.4f}\")"
      ]
    }
  ],
  "metadata": {
    "colab": {
      "provenance": [],
      "include_colab_link": true
    },
    "kernelspec": {
      "display_name": "Python 3",
      "language": "python",
      "name": "python3"
    },
    "language_info": {
      "codemirror_mode": {
        "name": "ipython",
        "version": 3
      },
      "file_extension": ".py",
      "mimetype": "text/x-python",
      "name": "python",
      "nbconvert_exporter": "python",
      "pygments_lexer": "ipython3",
      "version": "3.7.3"
    }
  },
  "nbformat": 4,
  "nbformat_minor": 5
}