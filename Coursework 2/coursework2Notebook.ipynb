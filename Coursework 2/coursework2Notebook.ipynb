{
  "cells": [
    {
      "cell_type": "markdown",
      "metadata": {
        "id": "view-in-github",
        "colab_type": "text"
      },
      "source": [
        "<a href=\"https://colab.research.google.com/github/MrRox1337/CST3170/blob/main/Coursework%202/coursework2Notebook.ipynb\" target=\"_parent\"><img src=\"https://colab.research.google.com/assets/colab-badge.svg\" alt=\"Open In Colab\"/></a>"
      ]
    },
    {
      "cell_type": "markdown",
      "id": "e5559f4c-6651-41d2-baf9-b1485cbb0afb",
      "metadata": {
        "id": "e5559f4c-6651-41d2-baf9-b1485cbb0afb"
      },
      "source": [
        "# CST3170 Coursework - AI Model Development\n",
        "\n",
        "By: Aman Mishra\n",
        "MISIS: M00983641\n",
        "Professor: Dr. Maha Saadeh\n",
        "\n",
        "This notebook uses training dataset to learn the type of digit based on neural activations. It generates the prediction model and applies it to a new testing dataset to predict a base10 digit.\n",
        "\n",
        "The training uses Neural Netwoks, especially Multi-Layered Perceptrons to create hidden layers and apply feed forward functions to get a bias toward the correct number."
      ]
    },
    {
      "cell_type": "markdown",
      "source": [
        "## Setup"
      ],
      "metadata": {
        "id": "Sq_971WycNn8"
      },
      "id": "Sq_971WycNn8"
    },
    {
      "cell_type": "markdown",
      "source": [
        "### Import datasets from Google Drive"
      ],
      "metadata": {
        "id": "edwcDalecQct"
      },
      "id": "edwcDalecQct"
    },
    {
      "cell_type": "code",
      "source": [
        "from google.colab import drive\n",
        "drive.mount('/content/drive')"
      ],
      "metadata": {
        "colab": {
          "base_uri": "https://localhost:8080/"
        },
        "id": "E06ZrzVLDGQK",
        "outputId": "566bce3b-d40a-4b3c-9ce2-00731bc3fb86"
      },
      "id": "E06ZrzVLDGQK",
      "execution_count": null,
      "outputs": [
        {
          "output_type": "stream",
          "name": "stdout",
          "text": [
            "Drive already mounted at /content/drive; to attempt to forcibly remount, call drive.mount(\"/content/drive\", force_remount=True).\n"
          ]
        }
      ]
    },
    {
      "cell_type": "markdown",
      "source": [
        "### Import modules for matrix manipulation"
      ],
      "metadata": {
        "id": "ny2ShaXLcGFM"
      },
      "id": "ny2ShaXLcGFM"
    },
    {
      "cell_type": "code",
      "execution_count": null,
      "id": "24ad75db-cf58-43f3-a868-c6165a53031d",
      "metadata": {
        "id": "24ad75db-cf58-43f3-a868-c6165a53031d"
      },
      "outputs": [],
      "source": [
        "import numpy as np\n",
        "import pandas as pd"
      ]
    },
    {
      "cell_type": "markdown",
      "source": [
        "### Hidden layers and weights"
      ],
      "metadata": {
        "id": "gKq4u1wWcVdN"
      },
      "id": "gKq4u1wWcVdN"
    },
    {
      "cell_type": "code",
      "execution_count": null,
      "id": "d430d75b",
      "metadata": {
        "id": "d430d75b"
      },
      "outputs": [],
      "source": [
        "# Set h (number of hidden neurons)\n",
        "h = 64  # Number of hidden neurons (can be modified)\n",
        "\n",
        "# Global arrays for outputs\n",
        "outputHidden = np.zeros(h)  # Hidden layer outputs\n",
        "outputneuron = np.zeros(10)  # Output layer outputs\n",
        "\n",
        "# Initialize random weights for the input-hidden and hidden-output connections\n",
        "WH = np.random.uniform(-1, 1, (h, 64))  # Weights between input and hidden layer\n",
        "WO = np.random.uniform(-1, 1, (10, h))  # Weights between hidden and output layer"
      ]
    },
    {
      "cell_type": "markdown",
      "source": [
        "### Feedfoward function"
      ],
      "metadata": {
        "id": "Ivki7SwIcf1k"
      },
      "id": "Ivki7SwIcf1k"
    },
    {
      "cell_type": "code",
      "execution_count": null,
      "id": "0d3d0805",
      "metadata": {
        "id": "0d3d0805"
      },
      "outputs": [],
      "source": [
        "# Feedforward method to calculate outputs\n",
        "def feedforward(dataSample):\n",
        "    global outputHidden, outputneuron\n",
        "\n",
        "    # Compute the output of the hidden neurons\n",
        "    for i in range(h):\n",
        "        weighted_sum_hidden = np.dot(dataSample, WH[i])  # Weighted sum for hidden neuron i\n",
        "        outputHidden[i] = sigmoid(weighted_sum_hidden)  # Apply sigmoid\n",
        "\n",
        "    # Compute the output of the output neurons\n",
        "    for i in range(10):\n",
        "        weighted_sum_output = np.dot(outputHidden, WO[i])  # Weighted sum for output neuron i\n",
        "        outputneuron[i] = 1 if weighted_sum_output >= 0 else 0  # Apply threshold"
      ]
    },
    {
      "cell_type": "markdown",
      "source": [
        "### Sigmoid function"
      ],
      "metadata": {
        "id": "7qMpXZfddF_-"
      },
      "id": "7qMpXZfddF_-"
    },
    {
      "cell_type": "code",
      "source": [
        "# Sigmoid activation function\n",
        "def sigmoid(x):\n",
        "    return 1 / (1 + np.exp(-x))"
      ],
      "metadata": {
        "id": "jzhwXIY5dJlC"
      },
      "id": "jzhwXIY5dJlC",
      "execution_count": null,
      "outputs": []
    },
    {
      "cell_type": "markdown",
      "source": [
        "### Validation function"
      ],
      "metadata": {
        "id": "Y4IhjQfTdNy5"
      },
      "id": "Y4IhjQfTdNy5"
    },
    {
      "cell_type": "code",
      "source": [
        "# Test error method to compare outputneuron with Map\n",
        "def testError(Map):\n",
        "    for i in range(10):\n",
        "        if Map[i] != outputneuron[i]:\n",
        "            return True\n",
        "    return False"
      ],
      "metadata": {
        "id": "WBFgi4jLd-iY"
      },
      "id": "WBFgi4jLd-iY",
      "execution_count": null,
      "outputs": []
    },
    {
      "cell_type": "markdown",
      "source": [
        "### Model training function"
      ],
      "metadata": {
        "id": "RcL9kcneeBXY"
      },
      "id": "RcL9kcneeBXY"
    },
    {
      "cell_type": "code",
      "execution_count": null,
      "id": "7a20ef01",
      "metadata": {
        "id": "7a20ef01"
      },
      "outputs": [],
      "source": [
        "# Training method to adjust weights based on the errors\n",
        "def training(Map, dataSample, learningRate=0.0125):\n",
        "    global WH, WO\n",
        "\n",
        "    # Compute error for the output neurons\n",
        "    errorOutput = np.zeros(10)  # Error for the output neurons\n",
        "    for i in range(10):\n",
        "        errorOutput[i] = Map[i] - outputneuron[i]\n",
        "\n",
        "    # Compute error for the hidden neurons\n",
        "    errorHidden = np.zeros(h)  # Error for the hidden neurons\n",
        "    for j in range(h):\n",
        "        errorTemp = 0\n",
        "        for i in range(10):\n",
        "            errorTemp += errorOutput[i] * WO[i][j]\n",
        "        errorHidden[j] = outputHidden[j] * (1 - outputHidden[j]) * errorTemp\n",
        "\n",
        "    # Adjust weights between hidden and output neurons (WO)\n",
        "    for i in range(10):  # Loop over output neurons\n",
        "        for j in range(h):  # Loop over hidden neurons\n",
        "            WO[i][j] += learningRate * outputHidden[j] * errorOutput[i]\n",
        "\n",
        "    # Adjust weights between input and hidden neurons (WH)\n",
        "    for i in range(h):  # Loop over hidden neurons\n",
        "        for j in range(64):  # Loop over input data sample\n",
        "            WH[i][j] += learningRate * dataSample[j] * errorHidden[i]"
      ]
    },
    {
      "cell_type": "markdown",
      "source": [
        "## Training"
      ],
      "metadata": {
        "id": "OAF0oORuedKW"
      },
      "id": "OAF0oORuedKW"
    },
    {
      "cell_type": "markdown",
      "source": [
        "### Load training dataset and weights"
      ],
      "metadata": {
        "id": "Nh8OEEuPei6f"
      },
      "id": "Nh8OEEuPei6f"
    },
    {
      "cell_type": "code",
      "execution_count": null,
      "id": "b2b09176",
      "metadata": {
        "id": "b2b09176"
      },
      "outputs": [],
      "source": [
        "# Load the training data from CSV\n",
        "training_data_path = '/content/drive/MyDrive/cw2DataSet1.csv'  # Ensure this is the correct path\n",
        "training_data = pd.read_csv(training_data_path)\n",
        "\n",
        "# Set learning rate and number of cycles\n",
        "learningRate = 0.0095\n",
        "total_cycles = 550  # Total number of training cycles\n",
        "display_interval = 50  # Display accuracy after every 50 cycles"
      ]
    },
    {
      "cell_type": "markdown",
      "source": [
        "### Build prediction model"
      ],
      "metadata": {
        "id": "p2HBT81Me3ms"
      },
      "id": "p2HBT81Me3ms"
    },
    {
      "cell_type": "code",
      "execution_count": null,
      "id": "d340662a",
      "metadata": {
        "colab": {
          "base_uri": "https://localhost:8080/"
        },
        "id": "d340662a",
        "outputId": "09f9213b-6f85-4103-bd25-a4365ba361a9"
      },
      "outputs": [
        {
          "output_type": "stream",
          "name": "stdout",
          "text": [
            "Cycle 50, Accuracy: 0.9598\n",
            "Cycle 100, Accuracy: 0.9829\n",
            "Cycle 150, Accuracy: 0.9915\n",
            "Cycle 200, Accuracy: 0.9929\n",
            "Cycle 250, Accuracy: 0.9972\n",
            "Cycle 300, Accuracy: 0.9964\n",
            "Cycle 350, Accuracy: 0.9972\n",
            "Cycle 400, Accuracy: 0.9975\n",
            "Cycle 450, Accuracy: 0.9932\n",
            "Cycle 500, Accuracy: 0.9939\n",
            "Cycle 550, Accuracy: 0.9993\n",
            "Cycle 600, Accuracy: 0.9993\n",
            "Cycle 650, Accuracy: 0.9993\n",
            "Cycle 700, Accuracy: 0.9993\n",
            "Cycle 750, Accuracy: 0.9993\n"
          ]
        }
      ],
      "source": [
        "# Iterate through the cycles\n",
        "for cycle in range(total_cycles):\n",
        "    success = 0\n",
        "    total_rows = len(training_data)\n",
        "\n",
        "    # Process each data sample\n",
        "    for _, row in training_data.iterrows():\n",
        "        dataSample = row[:-1].values  # First 64 columns as dataSample\n",
        "        targetOutput = int(row.iloc[-1])  # Last column as targetOutput using iloc\n",
        "\n",
        "        # Initialize the Map array to zeros\n",
        "        Map = np.zeros(10)\n",
        "        Map[targetOutput] = 1  # Set the target output index to 1\n",
        "\n",
        "        # Feedforward\n",
        "        feedforward(dataSample)\n",
        "\n",
        "        # Test error and update weights if needed\n",
        "        if testError(Map):\n",
        "            training(Map, dataSample, learningRate)\n",
        "        else:\n",
        "            success += 1\n",
        "\n",
        "    # Calculate accuracy at the end of each cycle\n",
        "    accuracy = success / total_rows\n",
        "\n",
        "    # Display the accuracy after every 50 cycles\n",
        "    if ((cycle + 1) % display_interval == 0) or (cycle <= 20):\n",
        "        print(f\"Cycle {cycle + 1}, Accuracy: {accuracy:.4f}\")"
      ]
    },
    {
      "cell_type": "markdown",
      "source": [
        "## Testing"
      ],
      "metadata": {
        "id": "CFguS_htgAtJ"
      },
      "id": "CFguS_htgAtJ"
    },
    {
      "cell_type": "markdown",
      "source": [
        "### Load test dataset"
      ],
      "metadata": {
        "id": "ZULSRgbxfykq"
      },
      "id": "ZULSRgbxfykq"
    },
    {
      "cell_type": "code",
      "source": [
        "# Load the testing data from CSV\n",
        "testing_data_path = '/content/drive/MyDrive/cw2DataSet2.csv'  # Ensure this is the correct path\n",
        "testing_data = pd.read_csv(training_data_path)"
      ],
      "metadata": {
        "id": "Xw94HdBHN0Zg"
      },
      "id": "Xw94HdBHN0Zg",
      "execution_count": null,
      "outputs": []
    },
    {
      "cell_type": "markdown",
      "source": [
        "### Test generated model"
      ],
      "metadata": {
        "id": "3e0BJ5m0f6Yd"
      },
      "id": "3e0BJ5m0f6Yd"
    },
    {
      "cell_type": "code",
      "source": [
        "success = 0\n",
        "total_rows = len(testing_data)\n",
        "\n",
        "# Process each data sample\n",
        "for _, row in testing_data.iterrows():\n",
        "    dataSample = row[:-1].values  # First 64 columns as dataSample\n",
        "    targetOutput = int(row.iloc[-1])  # Last column as targetOutput using iloc\n",
        "\n",
        "    # Initialize the Map array to zeros\n",
        "    Map = np.zeros(10)\n",
        "    Map[targetOutput] = 1  # Set the target output index to 1\n",
        "\n",
        "    # Feedforward\n",
        "    feedforward(dataSample)\n",
        "\n",
        "    # Test error and update weights if needed\n",
        "    if not testError(Map):\n",
        "        success += 1\n",
        "\n",
        "# Calculate accuracy at the end of testing\n",
        "accuracy = success / total_rows\n",
        "print(f\"Testing Accuracy: {accuracy:.4f}\")"
      ],
      "metadata": {
        "colab": {
          "base_uri": "https://localhost:8080/"
        },
        "id": "5HA96NOVO4Nk",
        "outputId": "7a5f58f8-808c-457b-eacd-7d4d47b9778e"
      },
      "id": "5HA96NOVO4Nk",
      "execution_count": null,
      "outputs": [
        {
          "output_type": "stream",
          "name": "stdout",
          "text": [
            "Testing Accuracy: 0.9982\n"
          ]
        }
      ]
    }
  ],
  "metadata": {
    "kernelspec": {
      "display_name": "Python 3",
      "language": "python",
      "name": "python3"
    },
    "language_info": {
      "codemirror_mode": {
        "name": "ipython",
        "version": 3
      },
      "file_extension": ".py",
      "mimetype": "text/x-python",
      "name": "python",
      "nbconvert_exporter": "python",
      "pygments_lexer": "ipython3",
      "version": "3.7.3"
    },
    "colab": {
      "provenance": [],
      "include_colab_link": true
    }
  },
  "nbformat": 4,
  "nbformat_minor": 5
}