{
  "cells": [
    {
      "cell_type": "markdown",
      "metadata": {
        "id": "view-in-github",
        "colab_type": "text"
      },
      "source": [
        "<a href=\"https://colab.research.google.com/github/MrRox1337/CST3170/blob/main/Coursework%202/coursework2Notebook.ipynb\" target=\"_parent\"><img src=\"https://colab.research.google.com/assets/colab-badge.svg\" alt=\"Open In Colab\"/></a>"
      ]
    },
    {
      "cell_type": "markdown",
      "id": "e5559f4c-6651-41d2-baf9-b1485cbb0afb",
      "metadata": {
        "id": "e5559f4c-6651-41d2-baf9-b1485cbb0afb"
      },
      "source": [
        "# Multi Layer Perceptron Model for Handwritten Number Identification\n",
        "\n",
        "By: Aman Mishra\n",
        "MISIS: M00983641\n",
        "Professor: Dr. Maha Saadeh\n",
        "\n",
        "This notebook demonstrates the development of a neural network model to recognize handwritten digits. It uses a training dataset to teach the network to identify digits (0-9) based on their features and applies the trained model to predict digits in a separate test dataset. The implementation employs Multi-Layer Perceptrons (MLP), focusing on forward propagation, activation functions, and iterative weight adjustments through training."
      ]
    },
    {
      "cell_type": "markdown",
      "id": "Sq_971WycNn8",
      "metadata": {
        "id": "Sq_971WycNn8"
      },
      "source": [
        "## Setup\n",
        "In this section, we configure the environment for model development. This involves loading the datasets, defining necessary mathematical and neural network functions, and initializing parameters for training the Multi-Layer Perceptron model."
      ]
    },
    {
      "cell_type": "markdown",
      "id": "edwcDalecQct",
      "metadata": {
        "id": "edwcDalecQct"
      },
      "source": [
        "### Import datasets from Google Drive\n",
        "\n",
        "Before proceeding, the notebook connects to the Drive to access the training and testing datasets."
      ]
    },
    {
      "cell_type": "code",
      "execution_count": 52,
      "id": "E06ZrzVLDGQK",
      "metadata": {
        "colab": {
          "base_uri": "https://localhost:8080/"
        },
        "id": "E06ZrzVLDGQK",
        "outputId": "4f37e28b-7cb7-48c4-b9b1-72dd781502ce"
      },
      "outputs": [
        {
          "output_type": "stream",
          "name": "stdout",
          "text": [
            "Drive already mounted at /content/drive; to attempt to forcibly remount, call drive.mount(\"/content/drive\", force_remount=True).\n"
          ]
        }
      ],
      "source": [
        "from google.colab import drive\n",
        "drive.mount('/content/drive')"
      ]
    },
    {
      "cell_type": "markdown",
      "source": [
        "### Load training and testing datasets from Google Drive\n",
        "\n",
        "Once the notebook connects, read the datasets for training and testing"
      ],
      "metadata": {
        "id": "ZaCJYE22Xw94"
      },
      "id": "ZaCJYE22Xw94"
    },
    {
      "cell_type": "code",
      "source": [
        "# Load the training data from CSV\n",
        "training_data_path = '/content/drive/MyDrive/cw2DataSet1.csv'  # Ensure this is the correct path\n",
        "training_data = pd.read_csv(training_data_path)\n",
        "\n",
        "# Load the testing data from CSV\n",
        "testing_data_path = '/content/drive/MyDrive/cw2DataSet2.csv'  # Ensure this is the correct path\n",
        "testing_data = pd.read_csv(training_data_path)"
      ],
      "metadata": {
        "id": "Df_AEBT1Yfby"
      },
      "id": "Df_AEBT1Yfby",
      "execution_count": 65,
      "outputs": []
    },
    {
      "cell_type": "markdown",
      "id": "ny2ShaXLcGFM",
      "metadata": {
        "id": "ny2ShaXLcGFM"
      },
      "source": [
        "### Import modules for matrix manipulation\n",
        "\n",
        "This section imports essential libraries for numerical and data manipulation:\n",
        "*  NumPy: For efficient mathematical operations like matrix multiplication and random number generation.\n",
        "*  Pandas: For loading and preprocessing data from the training and testing datasets.\n",
        "\n"
      ]
    },
    {
      "cell_type": "code",
      "execution_count": 54,
      "id": "24ad75db-cf58-43f3-a868-c6165a53031d",
      "metadata": {
        "id": "24ad75db-cf58-43f3-a868-c6165a53031d"
      },
      "outputs": [],
      "source": [
        "import numpy as np\n",
        "import pandas as pd"
      ]
    },
    {
      "cell_type": "markdown",
      "id": "gKq4u1wWcVdN",
      "metadata": {
        "id": "gKq4u1wWcVdN"
      },
      "source": [
        "### Hidden layers and weights\n",
        "Here, we define the hidden layer parameters for the neural network:\n",
        "*   Hidden neurons: Each of the 64 neurons represents a pixel in the 8x8 input image.\n",
        "*   Weights: Randomly initialize weights connecting input to hidden layers with a 64x64 matrix and hidden to output layers with a 10x64 matrix."
      ]
    },
    {
      "cell_type": "code",
      "execution_count": 55,
      "id": "d430d75b",
      "metadata": {
        "id": "d430d75b"
      },
      "outputs": [],
      "source": [
        "# Set h (number of hidden neurons)\n",
        "h = 64  # Number of hidden neurons (can be modified)\n",
        "\n",
        "# Global arrays for outputs\n",
        "outputHidden = np.zeros(h)  # Hidden layer outputs\n",
        "outputneuron = np.zeros(10)  # Output layer outputs\n",
        "\n",
        "# Initialize random weights for the input-hidden and hidden-output connections\n",
        "WH = np.random.uniform(-1, 1, (h, 64))  # Weights between input and hidden layer\n",
        "WO = np.random.uniform(-1, 1, (10, h))  # Weights between hidden and output layer"
      ]
    },
    {
      "cell_type": "markdown",
      "id": "7qMpXZfddF_-",
      "metadata": {
        "id": "7qMpXZfddF_-"
      },
      "source": [
        "### Sigmoid function\n",
        "The sigmoid function is a mathematical activation function that introduces non-linearity into the model. It outputs values between 0 and 1, making it ideal for binary classification and probabilistic interpretations."
      ]
    },
    {
      "cell_type": "code",
      "execution_count": 56,
      "id": "jzhwXIY5dJlC",
      "metadata": {
        "id": "jzhwXIY5dJlC"
      },
      "outputs": [],
      "source": [
        "# Sigmoid activation function\n",
        "def sigmoid(weighted_sum):\n",
        "    return 1 / (1 + np.exp(-weighted_sum))"
      ]
    },
    {
      "cell_type": "markdown",
      "id": "3tut1TpocI39",
      "metadata": {
        "id": "3tut1TpocI39"
      },
      "source": [
        "### Step function\n",
        "\n",
        "The step activation function is a threshold-based function that outputs 0 or 1 (a fixed value) depending on whether the input surpasses a specified threshold."
      ]
    },
    {
      "cell_type": "code",
      "execution_count": 57,
      "id": "LwEbFSkvdBJq",
      "metadata": {
        "id": "LwEbFSkvdBJq"
      },
      "outputs": [],
      "source": [
        "def step(weighted_sum):\n",
        "  return 1 if weighted_sum >= 0 else 0"
      ]
    },
    {
      "cell_type": "markdown",
      "id": "d6047c2b",
      "metadata": {
        "id": "d6047c2b"
      },
      "source": [
        "### Feedfoward function\n",
        "\n",
        "This section defines the feedforward function, a core component of the neural network:\n",
        "* It calculates the outputs of the hidden and output layers using matrix multiplication and activation functions.\n",
        "* The sigmoid function is used for hidden layer activation, while a step function determines output layer values.\n",
        "\n",
        "\n"
      ]
    },
    {
      "cell_type": "code",
      "execution_count": 58,
      "id": "266261c7",
      "metadata": {
        "id": "266261c7"
      },
      "outputs": [],
      "source": [
        "# Feedforward method to calculate outputs\n",
        "def feedforward(dataSample):\n",
        "    global outputHidden, outputneuron\n",
        "\n",
        "    # Compute the output of the hidden neurons\n",
        "    for i in range(h):\n",
        "        weighted_sum_hidden = np.dot(dataSample, WH[i])  # Weighted sum for hidden neuron i\n",
        "        outputHidden[i] = sigmoid(weighted_sum_hidden)  # Apply sigmoid\n",
        "\n",
        "    # Compute the output of the output neurons\n",
        "    for i in range(10):\n",
        "        weighted_sum_output = np.dot(outputHidden, WO[i])  # Weighted sum for output neuron i\n",
        "        outputneuron[i] = step(weighted_sum_output)  # Apply step"
      ]
    },
    {
      "cell_type": "markdown",
      "id": "Y4IhjQfTdNy5",
      "metadata": {
        "id": "Y4IhjQfTdNy5"
      },
      "source": [
        "### Validation function\n",
        "The validation function compares the predicted output with the expected target output (map). It identifies mismatches, which indicate errors that will guide weight adjustments during training or assist with calculating success during testing."
      ]
    },
    {
      "cell_type": "code",
      "execution_count": 59,
      "id": "WBFgi4jLd-iY",
      "metadata": {
        "id": "WBFgi4jLd-iY"
      },
      "outputs": [],
      "source": [
        "# Test error method to compare outputneuron with Map\n",
        "def testError(Map):\n",
        "    for i in range(10):\n",
        "        if Map[i] != outputneuron[i]:\n",
        "            return True\n",
        "    return False"
      ]
    },
    {
      "cell_type": "markdown",
      "id": "RcL9kcneeBXY",
      "metadata": {
        "id": "RcL9kcneeBXY"
      },
      "source": [
        "### Model training function\n",
        "This function performs supervised learning:\n",
        "* It calculates errors for output and hidden neurons.\n",
        "*   Updates weights between layers based on the error gradients, using backpropagation.\n",
        "*   The learning rate controls the speed of weight updates to optimize the model."
      ]
    },
    {
      "cell_type": "code",
      "execution_count": 60,
      "id": "7a20ef01",
      "metadata": {
        "id": "7a20ef01"
      },
      "outputs": [],
      "source": [
        "# Training method to adjust weights based on the errors\n",
        "def training(Map, dataSample, learningRate=0.0125):\n",
        "    global WH, WO\n",
        "\n",
        "    # Compute error for the output neurons\n",
        "    errorOutput = np.zeros(10)  # Error for the output neurons\n",
        "    for i in range(10):\n",
        "        errorOutput[i] = Map[i] - outputneuron[i]\n",
        "\n",
        "    # Compute error for the hidden neurons\n",
        "    errorHidden = np.zeros(h)  # Error for the hidden neurons\n",
        "    for j in range(h):\n",
        "        errorTemp = 0\n",
        "        for i in range(10):\n",
        "            errorTemp += errorOutput[i] * WO[i][j]\n",
        "        errorHidden[j] = outputHidden[j] * (1 - outputHidden[j]) * errorTemp\n",
        "\n",
        "    # Adjust weights between hidden and output neurons (WO)\n",
        "    for i in range(10):  # Loop over output neurons\n",
        "        for j in range(h):  # Loop over hidden neurons\n",
        "            WO[i][j] += learningRate * outputHidden[j] * errorOutput[i]\n",
        "\n",
        "    # Adjust weights between input and hidden neurons (WH)\n",
        "    for i in range(h):  # Loop over hidden neurons\n",
        "        for j in range(64):  # Loop over input data sample\n",
        "            WH[i][j] += learningRate * dataSample[j] * errorHidden[i]"
      ]
    },
    {
      "cell_type": "markdown",
      "metadata": {
        "id": "sINi82oFDiPZ"
      },
      "source": [
        "---\n",
        "## Training Attempt 1"
      ],
      "id": "sINi82oFDiPZ"
    },
    {
      "cell_type": "markdown",
      "metadata": {
        "id": "QzPYf47PDiPa"
      },
      "source": [
        "### Load training dataset and set hyperparameters\n",
        "In this section, the training dataset is loaded, and hyperparameters are defined:\n",
        "* Learning rate: Controls the rate of weight updates; set to 2.5%\n",
        "* Total cycles: Number of iterations for training the model; set to 300."
      ],
      "id": "QzPYf47PDiPa"
    },
    {
      "cell_type": "code",
      "execution_count": null,
      "metadata": {
        "id": "RuUuN_CeDiPa"
      },
      "outputs": [],
      "source": [
        "# Set learning rate and number of cycles\n",
        "learningRate = 0.025\n",
        "total_cycles = 300  # Total number of training cycles\n",
        "display_interval = 50  # Display accuracy after every 50 cycles"
      ],
      "id": "RuUuN_CeDiPa"
    },
    {
      "cell_type": "markdown",
      "metadata": {
        "id": "M4vV5CXgDiPb"
      },
      "source": [
        "### Build prediction model\n",
        "This code runs the training loop:\n",
        "* Processes each data sample in the training dataset.\n",
        "* Uses the feedforward function to predict outputs.\n",
        "* Compares predictions to expected outputs, updating weights to reduce errors.\n",
        "* Tracks and displays model accuracy after specified intervals."
      ],
      "id": "M4vV5CXgDiPb"
    },
    {
      "cell_type": "code",
      "execution_count": null,
      "metadata": {
        "colab": {
          "base_uri": "https://localhost:8080/",
          "height": 714
        },
        "outputId": "3824badf-a274-4856-cc11-b4b809d9dfcc",
        "id": "w-iQ9BkJDiPb"
      },
      "outputs": [
        {
          "output_type": "stream",
          "name": "stdout",
          "text": [
            "Cycle 1, Accuracy: 0.4806\n",
            "Cycle 2, Accuracy: 0.6878\n",
            "Cycle 3, Accuracy: 0.7369\n",
            "Cycle 4, Accuracy: 0.7536\n",
            "Cycle 5, Accuracy: 0.7779\n",
            "Cycle 6, Accuracy: 0.7807\n",
            "Cycle 7, Accuracy: 0.7818\n",
            "Cycle 8, Accuracy: 0.7786\n",
            "Cycle 9, Accuracy: 0.8138\n",
            "Cycle 10, Accuracy: 0.8099\n",
            "Cycle 11, Accuracy: 0.8334\n",
            "Cycle 12, Accuracy: 0.8758\n",
            "Cycle 13, Accuracy: 0.8387\n",
            "Cycle 14, Accuracy: 0.8904\n",
            "Cycle 15, Accuracy: 0.8622\n",
            "Cycle 16, Accuracy: 0.8750\n",
            "Cycle 17, Accuracy: 0.8893\n",
            "Cycle 18, Accuracy: 0.8387\n",
            "Cycle 19, Accuracy: 0.8558\n",
            "Cycle 20, Accuracy: 0.8587\n",
            "Cycle 21, Accuracy: 0.8982\n",
            "Cycle 50, Accuracy: 0.9163\n"
          ]
        },
        {
          "output_type": "error",
          "ename": "KeyboardInterrupt",
          "evalue": "",
          "traceback": [
            "\u001b[0;31m---------------------------------------------------------------------------\u001b[0m",
            "\u001b[0;31mKeyboardInterrupt\u001b[0m                         Traceback (most recent call last)",
            "\u001b[0;32m<ipython-input-36-40eaa120ad59>\u001b[0m in \u001b[0;36m<cell line: 2>\u001b[0;34m()\u001b[0m\n\u001b[1;32m     18\u001b[0m         \u001b[0;31m# Test error and update weights if needed\u001b[0m\u001b[0;34m\u001b[0m\u001b[0;34m\u001b[0m\u001b[0m\n\u001b[1;32m     19\u001b[0m         \u001b[0;32mif\u001b[0m \u001b[0mtestError\u001b[0m\u001b[0;34m(\u001b[0m\u001b[0mMap\u001b[0m\u001b[0;34m)\u001b[0m\u001b[0;34m:\u001b[0m\u001b[0;34m\u001b[0m\u001b[0;34m\u001b[0m\u001b[0m\n\u001b[0;32m---> 20\u001b[0;31m             \u001b[0mtraining\u001b[0m\u001b[0;34m(\u001b[0m\u001b[0mMap\u001b[0m\u001b[0;34m,\u001b[0m \u001b[0mdataSample\u001b[0m\u001b[0;34m,\u001b[0m \u001b[0mlearningRate\u001b[0m\u001b[0;34m)\u001b[0m\u001b[0;34m\u001b[0m\u001b[0;34m\u001b[0m\u001b[0m\n\u001b[0m\u001b[1;32m     21\u001b[0m         \u001b[0;32melse\u001b[0m\u001b[0;34m:\u001b[0m\u001b[0;34m\u001b[0m\u001b[0;34m\u001b[0m\u001b[0m\n\u001b[1;32m     22\u001b[0m             \u001b[0msuccess\u001b[0m \u001b[0;34m+=\u001b[0m \u001b[0;36m1\u001b[0m\u001b[0;34m\u001b[0m\u001b[0;34m\u001b[0m\u001b[0m\n",
            "\u001b[0;32m<ipython-input-34-2a083a209636>\u001b[0m in \u001b[0;36mtraining\u001b[0;34m(Map, dataSample, learningRate)\u001b[0m\n\u001b[1;32m     19\u001b[0m     \u001b[0;32mfor\u001b[0m \u001b[0mi\u001b[0m \u001b[0;32min\u001b[0m \u001b[0mrange\u001b[0m\u001b[0;34m(\u001b[0m\u001b[0;36m10\u001b[0m\u001b[0;34m)\u001b[0m\u001b[0;34m:\u001b[0m  \u001b[0;31m# Loop over output neurons\u001b[0m\u001b[0;34m\u001b[0m\u001b[0;34m\u001b[0m\u001b[0m\n\u001b[1;32m     20\u001b[0m         \u001b[0;32mfor\u001b[0m \u001b[0mj\u001b[0m \u001b[0;32min\u001b[0m \u001b[0mrange\u001b[0m\u001b[0;34m(\u001b[0m\u001b[0mh\u001b[0m\u001b[0;34m)\u001b[0m\u001b[0;34m:\u001b[0m  \u001b[0;31m# Loop over hidden neurons\u001b[0m\u001b[0;34m\u001b[0m\u001b[0;34m\u001b[0m\u001b[0m\n\u001b[0;32m---> 21\u001b[0;31m             \u001b[0mWO\u001b[0m\u001b[0;34m[\u001b[0m\u001b[0mi\u001b[0m\u001b[0;34m]\u001b[0m\u001b[0;34m[\u001b[0m\u001b[0mj\u001b[0m\u001b[0;34m]\u001b[0m \u001b[0;34m+=\u001b[0m \u001b[0mlearningRate\u001b[0m \u001b[0;34m*\u001b[0m \u001b[0moutputHidden\u001b[0m\u001b[0;34m[\u001b[0m\u001b[0mj\u001b[0m\u001b[0;34m]\u001b[0m \u001b[0;34m*\u001b[0m \u001b[0merrorOutput\u001b[0m\u001b[0;34m[\u001b[0m\u001b[0mi\u001b[0m\u001b[0;34m]\u001b[0m\u001b[0;34m\u001b[0m\u001b[0;34m\u001b[0m\u001b[0m\n\u001b[0m\u001b[1;32m     22\u001b[0m \u001b[0;34m\u001b[0m\u001b[0m\n\u001b[1;32m     23\u001b[0m     \u001b[0;31m# Adjust weights between input and hidden neurons (WH)\u001b[0m\u001b[0;34m\u001b[0m\u001b[0;34m\u001b[0m\u001b[0m\n",
            "\u001b[0;31mKeyboardInterrupt\u001b[0m: "
          ]
        }
      ],
      "source": [
        "# Iterate through the cycles\n",
        "for cycle in range(total_cycles):\n",
        "    success = 0\n",
        "    total_rows = len(training_data)\n",
        "\n",
        "    # Process each data sample\n",
        "    for _, row in training_data.iterrows():\n",
        "        dataSample = row[:-1].values  # First 64 columns as dataSample\n",
        "        targetOutput = int(row.iloc[-1])  # Last column as targetOutput using iloc\n",
        "\n",
        "        # Initialize the Map array to zeros\n",
        "        Map = np.zeros(10)\n",
        "        Map[targetOutput] = 1  # Set the target output index to 1\n",
        "\n",
        "        # Feedforward\n",
        "        feedforward(dataSample)\n",
        "\n",
        "        # Test error and update weights if needed\n",
        "        if testError(Map):\n",
        "            training(Map, dataSample, learningRate)\n",
        "        else:\n",
        "            success += 1\n",
        "\n",
        "    # Calculate accuracy at the end of each cycle\n",
        "    accuracy = success / total_rows\n",
        "\n",
        "    # Display the accuracy after every 50 cycles\n",
        "    if ((cycle + 1) % display_interval == 0) or (cycle <= 20):\n",
        "        print(f\"Cycle {cycle + 1}, Accuracy: {accuracy:.4f}\")"
      ],
      "id": "w-iQ9BkJDiPb"
    },
    {
      "cell_type": "markdown",
      "metadata": {
        "id": "A1FFZpdqDiPb"
      },
      "source": [
        "## Testing Attempt 1\n",
        "This section evaluates the model's performance on unseen data using the testing dataset:\n",
        "* Predicts outputs for each sample using the trained model.\n",
        "* Calculates and reports overall accuracy, providing insight into the model's generalization capability."
      ],
      "id": "A1FFZpdqDiPb"
    },
    {
      "cell_type": "markdown",
      "metadata": {
        "id": "SPL3EHIeDiPc"
      },
      "source": [
        "### Test generated model"
      ],
      "id": "SPL3EHIeDiPc"
    },
    {
      "cell_type": "code",
      "execution_count": null,
      "metadata": {
        "colab": {
          "base_uri": "https://localhost:8080/"
        },
        "outputId": "b611da21-79ec-452b-a07e-351f0e0c2e0c",
        "id": "5St9J0d9DiPc"
      },
      "outputs": [
        {
          "output_type": "stream",
          "name": "stdout",
          "text": [
            "Testing Accuracy: 0.9555\n"
          ]
        }
      ],
      "source": [
        "success = 0\n",
        "total_rows = len(testing_data)\n",
        "\n",
        "# Process each data sample\n",
        "for _, row in testing_data.iterrows():\n",
        "    dataSample = row[:-1].values  # First 64 columns as dataSample\n",
        "    targetOutput = int(row.iloc[-1])  # Last column as targetOutput using iloc\n",
        "\n",
        "    # Initialize the Map array to zeros\n",
        "    Map = np.zeros(10)\n",
        "    Map[targetOutput] = 1  # Set the target output index to 1\n",
        "\n",
        "    # Feedforward\n",
        "    feedforward(dataSample)\n",
        "\n",
        "    # Test error and update weights if needed\n",
        "    if not testError(Map):\n",
        "        success += 1\n",
        "\n",
        "# Calculate accuracy at the end of testing\n",
        "accuracy = success / total_rows\n",
        "print(f\"Testing Accuracy: {accuracy:.4f}\")"
      ],
      "id": "5St9J0d9DiPc"
    },
    {
      "cell_type": "markdown",
      "metadata": {
        "id": "46FOUg6zEfti"
      },
      "source": [
        "---\n",
        "## Training Attempt 2\n",
        "> Note: Rerun Setup before attempting a new training session to reset the hidden and output layer weights."
      ],
      "id": "46FOUg6zEfti"
    },
    {
      "cell_type": "markdown",
      "metadata": {
        "id": "xeQAzbJsEftj"
      },
      "source": [
        "### Set hyperparameters\n",
        "In this section, the following hyperparameters are refined:\n",
        "* Learning rate: Decreased to 0.15%\n",
        "* Total cycles: Decreased to 50"
      ],
      "id": "xeQAzbJsEftj"
    },
    {
      "cell_type": "code",
      "execution_count": null,
      "metadata": {
        "id": "x31JWcgsEftk"
      },
      "outputs": [],
      "source": [
        "# Set learning rate and number of cycles\n",
        "learningRate = 0.015\n",
        "total_cycles = 50  # Total number of training cycles\n",
        "display_interval = 50  # Display accuracy after every 50 cycles"
      ],
      "id": "x31JWcgsEftk"
    },
    {
      "cell_type": "markdown",
      "metadata": {
        "id": "mdKtoXWWEftk"
      },
      "source": [
        "### Build prediction model"
      ],
      "id": "mdKtoXWWEftk"
    },
    {
      "cell_type": "code",
      "execution_count": null,
      "metadata": {
        "colab": {
          "base_uri": "https://localhost:8080/"
        },
        "outputId": "f7a87416-c096-4d0a-bb7d-14e63b5f22e0",
        "id": "COUNhcQWEftk"
      },
      "outputs": [
        {
          "output_type": "stream",
          "name": "stdout",
          "text": [
            "Cycle 1, Accuracy: 0.3489\n",
            "Cycle 2, Accuracy: 0.5799\n",
            "Cycle 3, Accuracy: 0.6960\n",
            "Cycle 4, Accuracy: 0.7326\n",
            "Cycle 5, Accuracy: 0.7675\n",
            "Cycle 6, Accuracy: 0.7732\n",
            "Cycle 7, Accuracy: 0.7996\n",
            "Cycle 8, Accuracy: 0.8078\n",
            "Cycle 9, Accuracy: 0.8095\n",
            "Cycle 10, Accuracy: 0.8359\n",
            "Cycle 11, Accuracy: 0.8526\n",
            "Cycle 12, Accuracy: 0.8594\n",
            "Cycle 13, Accuracy: 0.8604\n",
            "Cycle 14, Accuracy: 0.8669\n",
            "Cycle 15, Accuracy: 0.8711\n",
            "Cycle 16, Accuracy: 0.8800\n",
            "Cycle 17, Accuracy: 0.8804\n",
            "Cycle 18, Accuracy: 0.8936\n",
            "Cycle 19, Accuracy: 0.8964\n",
            "Cycle 20, Accuracy: 0.8982\n",
            "Cycle 21, Accuracy: 0.9067\n",
            "Cycle 50, Accuracy: 0.9505\n"
          ]
        }
      ],
      "source": [
        "# Iterate through the cycles\n",
        "for cycle in range(total_cycles):\n",
        "    success = 0\n",
        "    total_rows = len(training_data)\n",
        "\n",
        "    # Process each data sample\n",
        "    for _, row in training_data.iterrows():\n",
        "        dataSample = row[:-1].values  # First 64 columns as dataSample\n",
        "        targetOutput = int(row.iloc[-1])  # Last column as targetOutput using iloc\n",
        "\n",
        "        # Initialize the Map array to zeros\n",
        "        Map = np.zeros(10)\n",
        "        Map[targetOutput] = 1  # Set the target output index to 1\n",
        "\n",
        "        # Feedforward\n",
        "        feedforward(dataSample)\n",
        "\n",
        "        # Test error and update weights if needed\n",
        "        if testError(Map):\n",
        "            training(Map, dataSample, learningRate)\n",
        "        else:\n",
        "            success += 1\n",
        "\n",
        "    # Calculate accuracy at the end of each cycle\n",
        "    accuracy = success / total_rows\n",
        "\n",
        "    # Display the accuracy after every 50 cycles\n",
        "    if ((cycle + 1) % display_interval == 0) or (cycle <= 20):\n",
        "        print(f\"Cycle {cycle + 1}, Accuracy: {accuracy:.4f}\")"
      ],
      "id": "COUNhcQWEftk"
    },
    {
      "cell_type": "markdown",
      "metadata": {
        "id": "MTYTZwFbEftl"
      },
      "source": [
        "## Testing Attempt 2"
      ],
      "id": "MTYTZwFbEftl"
    },
    {
      "cell_type": "markdown",
      "metadata": {
        "id": "EhuY5hw3Eftm"
      },
      "source": [
        "### Test generated model"
      ],
      "id": "EhuY5hw3Eftm"
    },
    {
      "cell_type": "code",
      "execution_count": null,
      "metadata": {
        "colab": {
          "base_uri": "https://localhost:8080/"
        },
        "outputId": "174259d5-9fc5-41b3-8a74-c17c2857c13f",
        "id": "CjANiLhJEftm"
      },
      "outputs": [
        {
          "output_type": "stream",
          "name": "stdout",
          "text": [
            "Testing Accuracy: 0.9402\n"
          ]
        }
      ],
      "source": [
        "success = 0\n",
        "total_rows = len(testing_data)\n",
        "\n",
        "# Process each data sample\n",
        "for _, row in testing_data.iterrows():\n",
        "    dataSample = row[:-1].values  # First 64 columns as dataSample\n",
        "    targetOutput = int(row.iloc[-1])  # Last column as targetOutput using iloc\n",
        "\n",
        "    # Initialize the Map array to zeros\n",
        "    Map = np.zeros(10)\n",
        "    Map[targetOutput] = 1  # Set the target output index to 1\n",
        "\n",
        "    # Feedforward\n",
        "    feedforward(dataSample)\n",
        "\n",
        "    # Test error and update weights if needed\n",
        "    if not testError(Map):\n",
        "        success += 1\n",
        "\n",
        "# Calculate accuracy at the end of testing\n",
        "accuracy = success / total_rows\n",
        "print(f\"Testing Accuracy: {accuracy:.4f}\")"
      ],
      "id": "CjANiLhJEftm"
    },
    {
      "cell_type": "markdown",
      "source": [
        "---\n",
        "## Training Attempt 3\n",
        "> Note: Rerun Setup before attempting a new training session to reset the hidden and output layer weights."
      ],
      "metadata": {
        "id": "WNaBIHEkEroz"
      },
      "id": "WNaBIHEkEroz"
    },
    {
      "cell_type": "markdown",
      "id": "Nh8OEEuPei6f",
      "metadata": {
        "id": "Nh8OEEuPei6f"
      },
      "source": [
        "### Set hyperparameters\n",
        "In this section, the following hyperparameters are refined:\n",
        "* Learning rate: Decreased to 0.95%\n",
        "* Total cycles: Increased to 550"
      ]
    },
    {
      "cell_type": "code",
      "execution_count": 62,
      "id": "b2b09176",
      "metadata": {
        "id": "b2b09176"
      },
      "outputs": [],
      "source": [
        "# Set learning rate and number of cycles\n",
        "learningRate = 0.0095\n",
        "total_cycles = 550  # Total number of training cycles\n",
        "display_interval = 50  # Display accuracy after every 50 cycles"
      ]
    },
    {
      "cell_type": "markdown",
      "id": "p2HBT81Me3ms",
      "metadata": {
        "id": "p2HBT81Me3ms"
      },
      "source": [
        "### Build prediction model"
      ]
    },
    {
      "cell_type": "code",
      "execution_count": 63,
      "id": "d340662a",
      "metadata": {
        "colab": {
          "base_uri": "https://localhost:8080/"
        },
        "id": "d340662a",
        "outputId": "823bdc1c-9df0-4752-8e84-24fbbb3baef1"
      },
      "outputs": [
        {
          "output_type": "stream",
          "name": "stdout",
          "text": [
            "Cycle 1, Accuracy: 0.3937\n",
            "Cycle 2, Accuracy: 0.6476\n",
            "Cycle 3, Accuracy: 0.7159\n",
            "Cycle 4, Accuracy: 0.7779\n",
            "Cycle 5, Accuracy: 0.8092\n",
            "Cycle 6, Accuracy: 0.8234\n",
            "Cycle 7, Accuracy: 0.8423\n",
            "Cycle 8, Accuracy: 0.8601\n",
            "Cycle 9, Accuracy: 0.8637\n",
            "Cycle 10, Accuracy: 0.8704\n",
            "Cycle 11, Accuracy: 0.8750\n",
            "Cycle 12, Accuracy: 0.8822\n",
            "Cycle 13, Accuracy: 0.8968\n",
            "Cycle 14, Accuracy: 0.9039\n",
            "Cycle 15, Accuracy: 0.9039\n",
            "Cycle 16, Accuracy: 0.9089\n",
            "Cycle 17, Accuracy: 0.9160\n",
            "Cycle 18, Accuracy: 0.9142\n",
            "Cycle 19, Accuracy: 0.9156\n",
            "Cycle 20, Accuracy: 0.9270\n",
            "Cycle 21, Accuracy: 0.9288\n",
            "Cycle 50, Accuracy: 0.9566\n",
            "Cycle 100, Accuracy: 0.9744\n",
            "Cycle 150, Accuracy: 0.9847\n",
            "Cycle 200, Accuracy: 0.9961\n",
            "Cycle 250, Accuracy: 0.9957\n",
            "Cycle 300, Accuracy: 0.9975\n",
            "Cycle 350, Accuracy: 0.9982\n",
            "Cycle 400, Accuracy: 1.0000\n",
            "Cycle 450, Accuracy: 1.0000\n",
            "Cycle 500, Accuracy: 1.0000\n",
            "Cycle 550, Accuracy: 1.0000\n"
          ]
        }
      ],
      "source": [
        "# Iterate through the cycles\n",
        "for cycle in range(total_cycles):\n",
        "    success = 0\n",
        "    total_rows = len(training_data)\n",
        "\n",
        "    # Process each data sample\n",
        "    for _, row in training_data.iterrows():\n",
        "        dataSample = row[:-1].values  # First 64 columns as dataSample\n",
        "        targetOutput = int(row.iloc[-1])  # Last column as targetOutput using iloc\n",
        "\n",
        "        # Initialize the Map array to zeros\n",
        "        Map = np.zeros(10)\n",
        "        Map[targetOutput] = 1  # Set the target output index to 1\n",
        "\n",
        "        # Feedforward\n",
        "        feedforward(dataSample)\n",
        "\n",
        "        # Test error and update weights if needed\n",
        "        if testError(Map):\n",
        "            training(Map, dataSample, learningRate)\n",
        "        else:\n",
        "            success += 1\n",
        "\n",
        "    # Calculate accuracy at the end of each cycle\n",
        "    accuracy = success / total_rows\n",
        "\n",
        "    # Display the accuracy after every 50 cycles\n",
        "    if ((cycle + 1) % display_interval == 0) or (cycle <= 20):\n",
        "        print(f\"Cycle {cycle + 1}, Accuracy: {accuracy:.4f}\")"
      ]
    },
    {
      "cell_type": "markdown",
      "id": "CFguS_htgAtJ",
      "metadata": {
        "id": "CFguS_htgAtJ"
      },
      "source": [
        "## Testing Attempt 3"
      ]
    },
    {
      "cell_type": "markdown",
      "id": "3e0BJ5m0f6Yd",
      "metadata": {
        "id": "3e0BJ5m0f6Yd"
      },
      "source": [
        "### Test generated model"
      ]
    },
    {
      "cell_type": "code",
      "execution_count": 66,
      "id": "5HA96NOVO4Nk",
      "metadata": {
        "colab": {
          "base_uri": "https://localhost:8080/"
        },
        "id": "5HA96NOVO4Nk",
        "outputId": "c9f73f93-7e88-4b6f-dd43-3a3c92296f88"
      },
      "outputs": [
        {
          "output_type": "stream",
          "name": "stdout",
          "text": [
            "Testing Accuracy: 1.0000\n"
          ]
        }
      ],
      "source": [
        "success = 0\n",
        "total_rows = len(testing_data)\n",
        "\n",
        "# Process each data sample\n",
        "for _, row in testing_data.iterrows():\n",
        "    dataSample = row[:-1].values  # First 64 columns as dataSample\n",
        "    targetOutput = int(row.iloc[-1])  # Last column as targetOutput using iloc\n",
        "\n",
        "    # Initialize the Map array to zeros\n",
        "    Map = np.zeros(10)\n",
        "    Map[targetOutput] = 1  # Set the target output index to 1\n",
        "\n",
        "    # Feedforward\n",
        "    feedforward(dataSample)\n",
        "\n",
        "    # Test error and update weights if needed\n",
        "    if not testError(Map):\n",
        "        success += 1\n",
        "\n",
        "# Calculate accuracy at the end of testing\n",
        "accuracy = success / total_rows\n",
        "print(f\"Testing Accuracy: {accuracy:.4f}\")"
      ]
    }
  ],
  "metadata": {
    "colab": {
      "provenance": [],
      "include_colab_link": true
    },
    "kernelspec": {
      "display_name": "Python 3",
      "language": "python",
      "name": "python3"
    },
    "language_info": {
      "codemirror_mode": {
        "name": "ipython",
        "version": 3
      },
      "file_extension": ".py",
      "mimetype": "text/x-python",
      "name": "python",
      "nbconvert_exporter": "python",
      "pygments_lexer": "ipython3",
      "version": "3.7.3"
    }
  },
  "nbformat": 4,
  "nbformat_minor": 5
}